{
 "cells": [
  {
   "cell_type": "markdown",
   "metadata": {},
   "source": [
    "1."
   ]
  },
  {
   "cell_type": "code",
   "execution_count": 28,
   "metadata": {},
   "outputs": [],
   "source": [
    "import numpy as np \n",
    "import pandas as pd"
   ]
  },
  {
   "cell_type": "code",
   "execution_count": 29,
   "metadata": {},
   "outputs": [],
   "source": [
    "df = pd.read_csv('moviereviews.tsv',sep='\\t')"
   ]
  },
  {
   "cell_type": "code",
   "execution_count": 30,
   "metadata": {},
   "outputs": [
    {
     "data": {
      "text/html": [
       "<div>\n",
       "<style scoped>\n",
       "    .dataframe tbody tr th:only-of-type {\n",
       "        vertical-align: middle;\n",
       "    }\n",
       "\n",
       "    .dataframe tbody tr th {\n",
       "        vertical-align: top;\n",
       "    }\n",
       "\n",
       "    .dataframe thead th {\n",
       "        text-align: right;\n",
       "    }\n",
       "</style>\n",
       "<table border=\"1\" class=\"dataframe\">\n",
       "  <thead>\n",
       "    <tr style=\"text-align: right;\">\n",
       "      <th></th>\n",
       "      <th>label</th>\n",
       "      <th>review</th>\n",
       "    </tr>\n",
       "  </thead>\n",
       "  <tbody>\n",
       "    <tr>\n",
       "      <th>0</th>\n",
       "      <td>neg</td>\n",
       "      <td>how do films like mouse hunt get into theatres...</td>\n",
       "    </tr>\n",
       "    <tr>\n",
       "      <th>1</th>\n",
       "      <td>neg</td>\n",
       "      <td>some talented actresses are blessed with a dem...</td>\n",
       "    </tr>\n",
       "    <tr>\n",
       "      <th>2</th>\n",
       "      <td>pos</td>\n",
       "      <td>this has been an extraordinary year for austra...</td>\n",
       "    </tr>\n",
       "    <tr>\n",
       "      <th>3</th>\n",
       "      <td>pos</td>\n",
       "      <td>according to hollywood movies made in last few...</td>\n",
       "    </tr>\n",
       "    <tr>\n",
       "      <th>4</th>\n",
       "      <td>neg</td>\n",
       "      <td>my first press screening of 1998 and already i...</td>\n",
       "    </tr>\n",
       "  </tbody>\n",
       "</table>\n",
       "</div>"
      ],
      "text/plain": [
       "  label                                             review\n",
       "0   neg  how do films like mouse hunt get into theatres...\n",
       "1   neg  some talented actresses are blessed with a dem...\n",
       "2   pos  this has been an extraordinary year for austra...\n",
       "3   pos  according to hollywood movies made in last few...\n",
       "4   neg  my first press screening of 1998 and already i..."
      ]
     },
     "execution_count": 30,
     "metadata": {},
     "output_type": "execute_result"
    }
   ],
   "source": [
    "df.head()"
   ]
  },
  {
   "cell_type": "code",
   "execution_count": 31,
   "metadata": {},
   "outputs": [
    {
     "data": {
      "text/plain": [
       "(2000, 2)"
      ]
     },
     "execution_count": 31,
     "metadata": {},
     "output_type": "execute_result"
    }
   ],
   "source": [
    "df.shape"
   ]
  },
  {
   "cell_type": "markdown",
   "metadata": {},
   "source": [
    "2."
   ]
  },
  {
   "cell_type": "code",
   "execution_count": 32,
   "metadata": {},
   "outputs": [
    {
     "data": {
      "text/plain": [
       "label      0\n",
       "review    35\n",
       "dtype: int64"
      ]
     },
     "execution_count": 32,
     "metadata": {},
     "output_type": "execute_result"
    }
   ],
   "source": [
    "df.isnull().sum()"
   ]
  },
  {
   "cell_type": "code",
   "execution_count": 33,
   "metadata": {},
   "outputs": [],
   "source": [
    "blanks = []\n",
    "for ind,label,review in df.itertuples():\n",
    "    if type(review)==str:\n",
    "        if review.isspace()==True:\n",
    "            blanks.append(ind)\n",
    "            df.drop(df.index[ind])"
   ]
  },
  {
   "cell_type": "code",
   "execution_count": 34,
   "metadata": {},
   "outputs": [
    {
     "data": {
      "text/plain": [
       "27"
      ]
     },
     "execution_count": 34,
     "metadata": {},
     "output_type": "execute_result"
    }
   ],
   "source": [
    "len(blanks)"
   ]
  },
  {
   "cell_type": "markdown",
   "metadata": {},
   "source": [
    "3."
   ]
  },
  {
   "cell_type": "code",
   "execution_count": 35,
   "metadata": {},
   "outputs": [
    {
     "data": {
      "text/html": [
       "<div>\n",
       "<style scoped>\n",
       "    .dataframe tbody tr th:only-of-type {\n",
       "        vertical-align: middle;\n",
       "    }\n",
       "\n",
       "    .dataframe tbody tr th {\n",
       "        vertical-align: top;\n",
       "    }\n",
       "\n",
       "    .dataframe thead th {\n",
       "        text-align: right;\n",
       "    }\n",
       "</style>\n",
       "<table border=\"1\" class=\"dataframe\">\n",
       "  <thead>\n",
       "    <tr style=\"text-align: right;\">\n",
       "      <th></th>\n",
       "      <th>label</th>\n",
       "      <th>review</th>\n",
       "    </tr>\n",
       "  </thead>\n",
       "  <tbody>\n",
       "    <tr>\n",
       "      <th>0</th>\n",
       "      <td>neg</td>\n",
       "      <td>how do films like mouse hunt get into theatres...</td>\n",
       "    </tr>\n",
       "    <tr>\n",
       "      <th>1</th>\n",
       "      <td>neg</td>\n",
       "      <td>some talented actresses are blessed with a dem...</td>\n",
       "    </tr>\n",
       "    <tr>\n",
       "      <th>2</th>\n",
       "      <td>pos</td>\n",
       "      <td>this has been an extraordinary year for austra...</td>\n",
       "    </tr>\n",
       "    <tr>\n",
       "      <th>3</th>\n",
       "      <td>pos</td>\n",
       "      <td>according to hollywood movies made in last few...</td>\n",
       "    </tr>\n",
       "    <tr>\n",
       "      <th>4</th>\n",
       "      <td>neg</td>\n",
       "      <td>my first press screening of 1998 and already i...</td>\n",
       "    </tr>\n",
       "    <tr>\n",
       "      <th>...</th>\n",
       "      <td>...</td>\n",
       "      <td>...</td>\n",
       "    </tr>\n",
       "    <tr>\n",
       "      <th>1995</th>\n",
       "      <td>pos</td>\n",
       "      <td>i like movies with albert brooks , and i reall...</td>\n",
       "    </tr>\n",
       "    <tr>\n",
       "      <th>1996</th>\n",
       "      <td>pos</td>\n",
       "      <td>it might surprise some to know that joel and e...</td>\n",
       "    </tr>\n",
       "    <tr>\n",
       "      <th>1997</th>\n",
       "      <td>pos</td>\n",
       "      <td>the verdict : spine-chilling drama from horror...</td>\n",
       "    </tr>\n",
       "    <tr>\n",
       "      <th>1998</th>\n",
       "      <td>pos</td>\n",
       "      <td>i want to correct what i wrote in a former ret...</td>\n",
       "    </tr>\n",
       "    <tr>\n",
       "      <th>1999</th>\n",
       "      <td>pos</td>\n",
       "      <td>a couple of months ago , when i first download...</td>\n",
       "    </tr>\n",
       "  </tbody>\n",
       "</table>\n",
       "<p>1965 rows × 2 columns</p>\n",
       "</div>"
      ],
      "text/plain": [
       "     label                                             review\n",
       "0      neg  how do films like mouse hunt get into theatres...\n",
       "1      neg  some talented actresses are blessed with a dem...\n",
       "2      pos  this has been an extraordinary year for austra...\n",
       "3      pos  according to hollywood movies made in last few...\n",
       "4      neg  my first press screening of 1998 and already i...\n",
       "...    ...                                                ...\n",
       "1995   pos  i like movies with albert brooks , and i reall...\n",
       "1996   pos  it might surprise some to know that joel and e...\n",
       "1997   pos  the verdict : spine-chilling drama from horror...\n",
       "1998   pos  i want to correct what i wrote in a former ret...\n",
       "1999   pos  a couple of months ago , when i first download...\n",
       "\n",
       "[1965 rows x 2 columns]"
      ]
     },
     "execution_count": 35,
     "metadata": {},
     "output_type": "execute_result"
    }
   ],
   "source": [
    "df.dropna()"
   ]
  },
  {
   "cell_type": "code",
   "execution_count": null,
   "metadata": {},
   "outputs": [],
   "source": []
  },
  {
   "cell_type": "code",
   "execution_count": null,
   "metadata": {},
   "outputs": [],
   "source": []
  },
  {
   "cell_type": "code",
   "execution_count": 36,
   "metadata": {},
   "outputs": [
    {
     "data": {
      "text/html": [
       "<div>\n",
       "<style scoped>\n",
       "    .dataframe tbody tr th:only-of-type {\n",
       "        vertical-align: middle;\n",
       "    }\n",
       "\n",
       "    .dataframe tbody tr th {\n",
       "        vertical-align: top;\n",
       "    }\n",
       "\n",
       "    .dataframe thead th {\n",
       "        text-align: right;\n",
       "    }\n",
       "</style>\n",
       "<table border=\"1\" class=\"dataframe\">\n",
       "  <thead>\n",
       "    <tr style=\"text-align: right;\">\n",
       "      <th></th>\n",
       "      <th>label</th>\n",
       "      <th>review</th>\n",
       "    </tr>\n",
       "  </thead>\n",
       "  <tbody>\n",
       "    <tr>\n",
       "      <th>55</th>\n",
       "      <td>pos</td>\n",
       "      <td>some of my friends who went to live in usa com...</td>\n",
       "    </tr>\n",
       "    <tr>\n",
       "      <th>56</th>\n",
       "      <td>neg</td>\n",
       "      <td>my son and i share a perverse predilection for...</td>\n",
       "    </tr>\n",
       "    <tr>\n",
       "      <th>57</th>\n",
       "      <td>neg</td>\n",
       "      <td></td>\n",
       "    </tr>\n",
       "    <tr>\n",
       "      <th>58</th>\n",
       "      <td>neg</td>\n",
       "      <td>how could a g-rated disney film based on meg c...</td>\n",
       "    </tr>\n",
       "  </tbody>\n",
       "</table>\n",
       "</div>"
      ],
      "text/plain": [
       "   label                                             review\n",
       "55   pos  some of my friends who went to live in usa com...\n",
       "56   neg  my son and i share a perverse predilection for...\n",
       "57   neg                                                   \n",
       "58   neg  how could a g-rated disney film based on meg c..."
      ]
     },
     "execution_count": 36,
     "metadata": {},
     "output_type": "execute_result"
    }
   ],
   "source": [
    "df[55:59]"
   ]
  },
  {
   "cell_type": "markdown",
   "metadata": {},
   "source": [
    "4."
   ]
  },
  {
   "cell_type": "code",
   "execution_count": 37,
   "metadata": {},
   "outputs": [
    {
     "data": {
      "text/plain": [
       "label  review                                                                                                                                                                                                                                                                                                                                                                                                                                                                                                                                                                                                                                                                                                                                                                                                                                                                                                                                                                                                                                                                                                                                                                                                                                                                                                                                                                                                                                                                                                                                                                                                                                                                                                                                                                                                                                                                                                                                                                                                                                                                                                                                                                                                                                                                                                                                                                                                                                                                                                                                                                                                                                                                                                                                                                                                                                                                                                                                                                                                                                                                                                                                                                                                                                                                                                                                                                                                                                                                                                                                                                                                                                                                                                                                                                                                                                                                                                                                                                                                                                                                                                                                                                                                                                                                                                                                                                                                                                                                                                                                                                                                                                                                                                                                                                                                                                                                                                                                                                                                                                                                                                                                                                                                                                                                                                                                                                                                                                                                                                                                                                                                                                                                      \n",
       "neg                                                                                                                                                                                                                                                                                                                                                                                                                                                                                                                                                                                                                                                                                                                                                                                                                                                                                                                                                                                                                                                                                                                                                                                                                                                                                                                                                                                                                                                                                                                                                                                                                                                                                                                                                                                                                                                                                                                                                                                                                                                                                                                                                                                                                                                                                                                                                                                                                                                                                                                                                                                                                                                                                                                                                                                                                                                                                                                                                                                                                                                                                                                                                                                                                                                                                                                                                                                                                                                                                                                                                                                                                                                                                                                                                                                                                                                                                                                                                                                                                                                                                                                                                                                                                                                                                                                                                                                                                                                                                                                                                                                                                                                                                                                                                                                                                                                                                                                                                                                                                                                                                                                                                                                                                                                                                                                                                                                                                                                                                                                                                                                                                                                                                    14\n",
       "pos                                                                                                                                                                                                                                                                                                                                                                                                                                                                                                                                                                                                                                                                                                                                                                                                                                                                                                                                                                                                                                                                                                                                                                                                                                                                                                                                                                                                                                                                                                                                                                                                                                                                                                                                                                                                                                                                                                                                                                                                                                                                                                                                                                                                                                                                                                                                                                                                                                                                                                                                                                                                                                                                                                                                                                                                                                                                                                                                                                                                                                                                                                                                                                                                                                                                                                                                                                                                                                                                                                                                                                                                                                                                                                                                                                                                                                                                                                                                                                                                                                                                                                                                                                                                                                                                                                                                                                                                                                                                                                                                                                                                                                                                                                                                                                                                                                                                                                                                                                                                                                                                                                                                                                                                                                                                                                                                                                                                                                                                                                                                                                                                                                                                                    13\n",
       "neg     \" alcohol and drugs = bad . \\nnot alcohol and drugs = good . \\ngot it ? \" \\njust when you though you've seen enough of brave young women dealing with their personal problems on screen , be that insanity or alcoholism , hollywood releases yet another one of those 'deep , emotional stories about finding yourself' . . \\n'28 days' is practically a visualization of the usual 'meaningful' true stories that people are so proudly retelling at aa-meetings . \\ngwennie ( sandra bullock ) is a young woman who drowned her problems in alcohol . \\nfor her life was a big party , with no beginning and no end . \\nthis behavior has of course estranged her from her only sister and from life itself . \\nher existence is filled with endless parties and comic episodes . \\nsuch as when she got drunk with boyfriend jasper ( dominic west ) , borrowed her sister's ( elizabeth perkins ) wedding limo and crashed it into someone's house . \\nthis time she had to pay with a 28 day stay in court-ordered rehab . \\nhere she must realize that the only thing that can save her is her is redemption , willpower and commitment . \\nmost important she must realize her place and direction in life and understand that her life is not just a big party . \\nthe film itself feels like a rehab program , whining and moaning about things that have been said and written a million times . \\nit is a classic cautionary tale . \\nan echo . \\na big , fat and expensive clich ? . \\na shadow of last year's 'girl , interrupted' , which likewise followed in the footsteps of great masterpieces like 'the cuckoo's nest' and 'trainspotting' . \\ndirector betty thomas has stuffed her film with so many failures and errors , that it is impossible to sum them all up in one review . \\nfor some paranoid reason she decided to make her film a drama/comedy . \\njokes and funny characters almost deliberately delude you from the really important and complex issues : alienation , despair , terror , confusion , loneliness . \\nand what awesome power and strength of character it actually takes to overcome all that and become clean . \\nisn't that what the filmmakers wanted to show in the first place ? \\neven the transition process itself seems like a walk in the park . betty thomas' idea of hell is a cozy , homey place where happy alcoholics and cheerful drug addicts are not allowed to smoke , drink or watch tv after 11 . \\nit is simply too light , simplified and unnecessary sweet to be taken seriously . \\nbut the worst thing about it is that it actually thinks that it is saying something of significance . \\nthat it actually tries to educate the audience with its extremely predictable and primitive story . \\n \" all you need to do is just say no \" , says dr . cornell ( steve buscemi ) as if was the revelation of the century . \\nand that's how simple it is ! \\nin fact i would rather watch 'lost in space' once again , than return to '28 days' . \\nas for acting , it's acceptable , but hardly anything else . \\nfor sandra bullock it's an opportunity to demonstrate that she is capable of more than 'speed' . \\nshe handles her part with a surprising professionalism and ease that certainly saves the film from being a complete flop . \\ndominic west shines as the source of gwenie's devilish temptations , but elizabeth perkins' and steve buscemi's great talents are wasted on unnoticeable and shallow characters . \\nalthough intellectually 'girl , interrupted' was a greater achievement , '28 days' is superior in its visual aspect . \\nthere are some nice flash back sequences and occasionally impressive pacing , but the overall technical aspect of this film is on the ground floor . \\nthe most important thing is that we've seen it before and it was a lot better . \\n'clean and sober' , 'only when i laugh' , 'when a man loves a woman' , 'leaving las vegas' and many other stronger films were made about the same issues . \\nso what's the point ? \\nin other words '28 days' doesn't contribute to the moviemaking business on any level . \\nif you're caught in a snowstorm or bolts of lightning fall from the sky and you're standing in front of the movie theatre , you might as well go in and watch '28 days' . \\nunder all other circumstances stay away , because this film equals $8 and 103 minutes lost . \\n                                                                                                                                                                                                                                                                                                                                                                                                                                                                                                                                                                                                                                                                                                                                                                                                                                                                                                                                                                                                                                                                                                                                                                                                                                     1\n",
       "pos    hilarious , ultra-low budget comedy from film school dropout kevin smith chronicles a day in the life of two convenience store slackers ( brian o'halloran and jeff anderson ) . \\nthey spend most of their day ignoring customers while discussing everything from fellatio to self-fulfillment . \\nthe premise is strictly sitcom and the photography is grainy as all get-out , but you could spend ten times the film's budget ( a reported $27 , 000 ) and still not get dialogue half as good as this . \\noriginally rated nc-17 for language . \\nnot recommended for viewers with sensitive ears . \\nkilling zoe =========== \\nremake reservoir dogs as a french art film and you're halfway to killing zoe , writer/director roger avary's slow-moving story of a failed bastille day bank robbery . \\neric stoltz stars as an american in paris who gets in * way * over his head when hooks up with a band of nihilistic bank robbers . \\nhe's the safecracker who's blissful unaware that the bank job is a botch job from the word go . \\nthough intriguing on all fronts , the film is paced at half the speed of pulp fiction , which avary co-wrote with quentin tarantino . \\nin english and french . \\nthe road to wellville ===================== \\nbased on the novel by t . coraghessan boyle , the road to wellville doesn't go very far . \\nbowels , bowels , and more bowels are explored by dr . john harvey kellogg ( a buck-toothed and bespectacled anthony hopkins ) , who , in the early 1900's , advocated abstinence , vegetarianism , and frequent defecation . \\nhe also invented the cornflake . \\nreally . \\nchecking-in to kellogg's battle creek sanitarium are matthew broderick and bridget fonda , just two of the many well-known faces in this failed comedy . \\nleave your laughter at the door and you can marvel at the unfunny antics of john cusack , michael lerner , lara flynn boyle , john neville , and dana carvey . \\nthe art direction is impeccable and some of the early sequences are amusing , but the novelty quickly wears off as writer/director alan parkers tries his darnedness to turn doo-doo into drama . \\nwhat he ends up with is something that i can't print here . \\nphew ! \\nstargate ======== \\nlawrence of arabia meets star wars . \\nthis epic sci-fi film is more sheer spectacle than anything else . \\ndirector roland emmerich ( universal solider ) shamelessly rips off lucas and spielberg and just about any other cosmic cliche that he can lay his hands on . \\nthe film is overlong , the characters are cardboard , and the script is filled with some of the most laughable details in modern sci-fi history . \\nthat said , there's still plenty to watch here . \\nsci-fi fans should enjoy the sculpted sands , the morphing headdresses , and a surprisingly spunky james spader . \\nhe plays the egyptologist who gets to prove his theory that that \" somebody else \" built the pyramids . \\nless interesting are co-stars kurt russell and jaye davidson of crying game fame . \\nstar trek generations ===================== \\ntrek fans may be more forgiving , but , for the rest of us , the sluggish star trek generations is a mixed bag at best . \\nthe story is interesting , but each scene goes too long . \\nthe cast is earnest , but the direction lacks punch . \\nand so on . \\n ( the best example of the latter is a klingon comeuppance that delivers none of the impact of a similar scene in star trek ii . ) \\noriginal enterprise captain james t . kirk appears on both ends of the story , though they cut the scene where shatner turns to the screen to plead \" get a life . \" \\nremarkably unremarkable . \\nmiracle on 34th street ====================== \\nin a season of the specialist and pulp fiction et al , maybe a remake of miracle on 34th street * is * necessary . \\njohn hughes certainly believes in santa claus and his les mayfield-directed production does nothing to tarnish the memory of the 1947 original . \\nthe romance between costars dylan mcdermott and elizabeth perkins doesn't work too well , but the film makes a strong case that richard attenborough is the definitive kriss kringle . \\nhis chemistry with children can moisten any eye . \\nno claus for alarm . \\njunior ====== \\narnold schwarzenegger pregnant ? \\nsure , billy crystal did it before in rabbit test , but the sight of schwarz with a bulging belly is a casting coup comparable to dustin hoffman in tootsie . \\nwhat should be nothing more than a one-joke premise actually gets better as it goes along . \\ndirector ivan reitman ( dave , twins ) wisely keeps the farce to a minimum , so the first hour moves slower than you might expect . \\ndon't expect too many yuks from danny devito , but you can't beat those early romantic scenes between emma and arnie . \\nhow's * that * for a collision of acting styles ? \\n                                                                                                                                                                                                                                                                                                                                                                                                                                                                                                                                                                                                                                                                                                             1\n",
       "       i know what i would do with $4 . 4 million if i found it in a previously undiscovered airplane crash site , especially if i were with jacob and lou . \\n ( huh ? ) \\nwell , in any event , that is the situation hank ( paxton ) finds himself in . \\nhe and his dim-witted brother jacob ( thorton ) and tubby friend lou ( brent briscoe ) come upon a large bag of cash inside a plane wreck . \\nagainst his better judgement , hank decides to go along with the idea of keeping it rather than going to the authorities . \\nthe rest of the film is a question of who is going to die to keep this a secret , and is it worth it ? \\na simple wish lies along the lines of very bad things , clay pigeons and even fargo , and is kind of wrapped all into one little dark bundle . \\noh , and its much better than any of those . \\nsam raimi took a departure from his normal freak-show horror-monkey films and made this stylish and intriguing picture . \\nhe really lets the audience sit back and watch the events unfold rather than force them down our throats as many directors prefer to do . \\ni think raimi knew he had a winner on his hands and decided to direct the picture on a natural flowing course . \\none of the film's components can be linked to a recurring theme in terrence malick's the thin red line . \\nin malick's three hour bore-a-thon , he makes an interesting attempt to link mother earth to his war story . \\nit seemed nothing more than an occasional pretty cut to a field of flowing grass , a small bird , or a flowing body of water . \\nsure , there were obvious metaphorical connections , but there was no subtlty to his efforts . \\nraimi does a fine job of tying in a fox in a chicken coop and birds of prey to signify the future of the characters . \\ni think most viewers may miss the comparison , but it is a very intriguing ingredient in the film . \\nand then there's billy bob thorton , who is proof that the independent film industry is vital to the life blood of hollywood . \\nif it can continute to produce people like thorton , hollywood will be ok . \\nhe gives a fantastic and devastatingly deep performance here . \\nit is not as engrossing as his carl childers character in slingblade , but is is just as complex , if not more so . \\njacob is slow and simple , and yet we so often see him deep in thought . \\ni wondered if he was thinking about things that he would never say ( or didn't know how to say ) or if he was just taking a long time to think about the thing he just said . \\nhere he really proves his worth as one of the best character actors in the industry . \\nthough the plot is somewhat unoriginal , it has a very appealing new twist in its characters . \\npaxton gives one of the better performances of his career as the straight and serious leader of the group ( a far cry from chet in wierd science ) . \\nperhaps bridget fonda is miscast as his advice-giving wife , but she certainly doesn't do anything ruin the picture . \\na simple plan can be included in the group of recent small hollywood films that is just dark and pretty un-redeeming . \\nbut at least this one has an important message , unlike so many of its counterparts . \\n                                                                                                                                                                                                                                                                                                                                                                                                                                                                                                                                                                                                                                                                                                                                                                                                                                                                                                                                                                                                                                                                                                                                                                                                                                                                                                                                                                                                                                                                                                                                                                                                                                                                                                                                                                                                                                                                                                                                                                                                                                                                                                                                                                                                                                                                                                                                                                                          1\n",
       "                                                                                                                                                                                                                                                                                                                                                                                                                                                                                                                                                                                                                                                                                                                                                                                                                                                                                                                                                                                                                                                                                                                                                                                                                                                                                                                                                                                                                                                                                                                                                                                                                                                                                                                                                                                                                                                                                                                                                                                                                                                                                                                                                                                                                                                                                                                                                                                                                                                                                                                                                                                                                                                                                                                                                                                                                                                                                                                                                                                                                                                                                                                                                                                                                                                                                                                                                                                                                                                                                                                                                                                                                                                                                                                                                                                                                                                                                                                                                                                                                                                                                                                                                                                                                                                                                                                                                                                                                                                                                                                                                                                                                                                                                                                                                                                                                                                                                                                                                                                                                                                                                                                                                                                                                                                                                                                                                                                                                                                                                                                                                                                                                                                                                       ..\n",
       "neg    some concepts seem patently hopeless from the beginning , a live-action version of mr . \\nmagoo being a prime example . \\nthe cartoon figure mr . magoo , the bumbling blind man , can be quite funny , but only in small doses and only within the confines of animated images . \\nif you think naked gun star leslie nielsen is a dubious choice to play the role of the short guy who runs into walls , you are right , but there is an even more astonishing selection . \\nfor a director they tapped hong kong's stanley tong , whose resume consists mainly of a handful of movies featuring martial arts expert jackie chan . \\nthe story , such that there is one , is about a large , stolen ruby , which looks a woolworth reject . \\nmr . magoo gets it and , of course , does not realize he has it . \\nmayhem then ensues as the bad and the good guys chase each other with mr . magoo frequently oblivious to the fact that anyone is being chased . \\nlike home alone 3 but without any class , mr . \\nmagoo can only be described as painfully bad . \\nfifteen minutes of it feels like an eternity . \\nthe movie's humor is pathetically lame , and the pacing is way off . \\nwhen one is stuck in a theater for an hour and a half watching what claims to be a motion picture , one looks for some solace . \\nmr . \\nmagoo provides only three such moments . \\nthe movie begins and ends with the classic cartoon version of the character , who exudes his usual charm . \\nthe only other saving grave in the movie itself is angus , the sweet little bulldog . \\nangus demonstrates more genuine emotions and a wider acting range than any of the humans in the picture . \\nfinally , the ending credits contain outtakes of the movie , which have some of the genuineness and spontaneity that the movie badly lacked . \\nrather than attempt to adapt mr . magoo to a non-cartoon movie , nielsen makes the strategic mistake of trying to literally be a human version of the cartoon . \\nhe has trouble sustaining the squinting eyes and the affected voice , and even when he does it comes off as awkwardly unfunny . \\nmy wife managed to get some sleep during the movie , but i was not so lucky . \\nhopefully , this picture will force producers to think harder about which subjects have promise and which do not . \\nmr . magoo runs 1 : 37 . \\nit is rated pg for comic violence and would be acceptable for all ages . \\nmy son jeffrey , age 8 , said he thought the movie was good and really funny , but recommends you not choose it if you want an action movie . \\nhe said he liked home alone 3 much more . \\nhis friend maxim , age 9 , said that he thought it was good but very silly and parts did not make sense . \\nhis other friend nickolas , age 8 , said he'd give the movie * * * 1/2 , but that it was really silly . \\n                                                                                                                                                                                                                                                                                                                                                                                                                                                                                                                                                                                                                                                                                                                                                                                                                                                                                                                                                                                                                                                                                                                                                                                                                                                                                                                                                                                                                                                                                                                                                                                                                                                                                                                                                                                                                                                                                                                                                                                                                                                                                                                                                                                                                                                                                                                                                                                                                                                                                                                                                                                                                                                                                                                                                                                           1\n",
       "       so what do you get when you mix together plot elements from various successful sci-fi films such as close encounters of the third kind , 2001 : a space odyssey , apollo 13 and contact ? \\nwell , whatever it is , you'd sure as hell hope that it would be a thousand times better than this shoddy attempt at such a melange , considering the disastrous results we're left with here . \\nthis is a film that takes a little bit of everything , but ultimately adds up to a lot of nothing ! \\nit's like i said . . . this \\nmovie sucks . \\nplot : a rescue crew of astronauts is sent down to mars in the year 2020 , after an unknown energy force leads to a loss of contact with the previous gang of space aviators to visit the red planet . \\ncritique : extremely underwhelming is the best way to describe this movie . \\nuneven , would be another . \\nthe trailer for this movie actually showed some promise , the buzz around it had been so-so , and even the film itself starts off with a decent first twenty minutes , all leading you to believe that it's actually going to go \" somewhere \" . \\nbut it isn't long before the entire movie downshifts into neutral , features more space walks than anything interesting on the cherry-colored planet , tries too hard to get us into the \" pain \" of some its characters and unsuccessfully tosses some romance into the mix . \\nin a sci-fi movie ? \\nwell , i don't know , much of it just seemed like a bunch of nerdies talking techie jargon for about an hour and a half , only to figure out some big secret in the end , a secret which practically had me yawning with excitement . \\nultimately , this is a movie that starts off with a decent premise , joins the crew in their \" misadventures in space \" for the main crux of its journey , and eventually settles down for one of the most anti-climactic endings this side of contact . \\nmind you , if you enjoyed that film's shrug-of-the-shoulders ending , you might just enjoy this frivolous ditty as well . \\nof course , i don't remember contact having such obvious and painfully distracting computer generated effects at its end of story . \\nugh . \\nwhat a friggin' mess . \\nfilms like this generally get me wondering about the brass in hollywood again . \\ndidn't anybody recognize the crappiness in this script ? \\ndidn't they read the bad dialogue , the cheezy lines , the obvious derivative nature of the work ( mind you , with a director like depalma at the helm , that ain't saying much ! ) . \\nof course , you can't really blame the brass for the inclusion of jerry o'connell in this fine crew of thespians . \\n'nuff said . \\nneither can you blame them for depalma cranking up the juice on the film's musical score during the last fifteen minutes , presumably in order to wake the audience up ( okay , we get it brian , this scene is supposed to be powerful . . . wow . . . yawn . . . my \\nears hurt ! ) . \\nso is anything salvageable in this movie ? \\nsure . \\ngary sinise does another great job , as does cheadle , the film doesn't completely bore you as much as it just moves along slowly without anything really interesting happening , and yes , the \" sand-twister \" effect that you see in the commercial is well done . \\nother than that ? \\ni guess i could say that i admire how filmmakers have become so much more devious in their product placement strategies . . . oops , \\ndid i say \" admire \" , i meant \" am disgusted \" ! \\nall in all , this movie delivers very little in actual substance , offers two-bit dialogue masked in a lot of sci-fi mumbo-jumbo , pretends to be deep when really it's just sappy , and eventually just settles into an ending which , other than presenting us with a pathetic computer graphic as a part of the story , gives us little more to think about than how we might be able to get our money back for sitting through this rehashed dreck . \\ngo see the ninth gate . . . now \\nthere's a great movie ! \\nand on a personal note , i think it's time for depalma to stop worrying so much about his proverbial 12-minute uninterrupted film sequences , and start worrying more about how crappy his movies are getting . \\n                                                                                                                                                                                                                                                                                                                                                                                                                                                                                                                                                                                                                                                                                                                                                                                                                                                                                                                                                                                                                                                                                                                                                                                                                                                                                                                                                                                 1\n",
       "       so much for sweet returns . \\nafter smart horror films were starting to be made again after the exploitative 80's slasher movies , starting with 1996's \" scream , \" and followed by \" scream 2 , \" \" urban legend , \" and the original , \" i know what you did last summer , \" a film like , \" i still know what you did last summer , \" was bound to be made sooner or late . \\nit is a perfect example of the exact reason why horror films temporarily burned out , and that is because they reached for the lowest-common-denominator in filmmaking , favoring non-stop deaths and gore for suspense , and trading in fleshed out , likable characters for one-dimensional nitwits . \\nit has been exactly one year since julie james ( jennifer love hewitt ) suffered through the ordeal of being terrorized by ben willis , a psychopathic fisherman whom her friends and she accidentally hit in the middle of the road , and then , thinking he was dead , dumped him into the ocean . \\nsince then , julie has relocated to boston university , and although often paranoid and haunted by bad dreams , she has been able to put her life back together . \\nwhen julie's friend , karla ( brandy ) , is called up by a radio station and answers correctly what the capital of brazil is , she wins a vacation to the bahamas for four people , which also includes karla's horny boyfriend , tyrell ( mekhi phifer ) , and will ( matthew settle ) , who karla sets julie up with after her own boyfriend , ray ( freddie prinze jr . , also returning from the original ) , doesn't show up . \\nwhen they reach the secluded island , they discover it is the last day of the open season , and will be stranded there for the 4th of july weekend with a few employees to fend off a violent storm headed for them . \\nof course , julie , her friends , and the workers aren't the only ones there , as the murderous ben willis , dressed in fisherman garb , returns to seek revenge on julie once and for all . \\nit is a sad state of affairs when a movie like , \" i still know what you did last summer , \" is made . \\ni am a very big fan of horror movies , and so it is especially disheartening to find out that this sequel to \" ikwydls , \" which i am a fan of , is almost an exact replica of a \" friday the 13th \" movie . \\nwhile the original focused more on the story and characters , as well as genuinely suspenseful moments , thanks to the screenplay by kevin williamson ( who didn't return to write the sequel , and it shows ) , \" i still know . . . \" \\nhas no story to speak of , and is so vacuous of ideas , that the filmmakers , were forced to have a murder occur every five minutes just to keep the audience interested . \\nalso gone are any signs of character development , and since every single character died before i got to know them , all i was left with was to stare at the screen , indifferent to what was going on . \\nwhile i cared about the fates of the characters in the original , it made no difference to me in this sequel who lived and died . \\nthey were all paper-thin and pointless , except to become victims to the lethal hook of the fisherman . \\nanother element that made the original so memorable were some superbly crafted set-pieces , like the store sequence with sarah michelle gellar , but there are none to speak of in this sequel ( although they do come close at one moment with brandy ) . \\nsince so many people were killed every couple minutes , the suspense and scares evaporated faster than salt in water . \\nalso of note is the mystery of the second killer , and accomplice to ben , but it is obvious from the first frame who it is , and so i couldn't even have fun at that , like i did in the \" scream \" movies and , \" urban legend . \" \\nit figures that just as slasher films were starting to get some recognition again , a film would come along and ruin it for everyone else . \\nmaybe the people who made , \" i still know what you did last summer , \" should have realized that in order to make a good movie , you must have a screenplay---or at least one that isn't such a black hole for thoughts and ideas . \\nthe ending of the film inevitably leaves the door wide open for a third part , but judging from this amazingly lackluster first sequel , everyone involved should have quit while they were still ahead . \\n                                                                                                                                                                                                                                                                                                                                                                                                                                                                                                                                                                                                                                                                                                                                                                                                                                                                                                                                                                                                                                                                                                                                                                                                       1\n",
       "       so i went and saw this film right , it was called \" battlefield : earth \" , i was never interested in the previews , and never too terribly interested in the book , nor do i find scientology interesting , but after reading advanced reviews of how bad this film really is , i had that weird urge just to watch it . \\nwell let me be the first to say , and so far in my view it's safe to say : battlefield : earth might be the worst film i have ever seen , yes even worse than \" mr . magoo \" , \" blue in the face \" , or \" jaws : the revenge \" . \\nroger christianson whos credits include set direction , and art direction for such great films as \" alien \" and \" star wars \" , directs this film with such amateurism , that the film looks and feels and in fact sounds so dumb , that it's quite depressing . \\nthe look of the film , is dark and drabby at times , but then bright and happy at other times . \\nthe sound is terrible , and has the worst surround sound effects i've heard . \\nthe acting is nothing , the dialogue poor , and the make-up effects hideous . \\nhere's the so-called plot : earth 3000 . . . . man is a endangered species , while aliens from the planet psychlo ( the aliens are named psychlo . . . i \\nwonder why ? ! ) are invading earth , destined to put an end to those \" man-animals \" to an end , and destroy earth once and for all , of course we have our typical hero ( played terrible by barry pepper , who was great in a small role in 1999's \" the green mile \" ) who is destined to go out , and save his planet ! \\none thing : he has to go up against , terl , the chief of security psychlo , who is played frankly , quite bad by john travolta , whom with dreadlocks , a big head , and green eyes just doesn't work . \\nof course the sidekick to terl , is played by ( lol ! ! ) \\nforest whitaker , who looks like a deformed werewolf of some kind . \\nour friendly human johnny ( barry pepper ) looks just as bad as well , with long scraggly hair . \\ni'm not really sure how to quite explain the badness of this film , except just to say it's terrible . \\neverything in this film is imcomprehinsable , from the make-up effects , which by the way aren't good , to the phony looking special effects , everything in this film is faulted . \\nin fact i don't remember one part in this entire movie where i was having a good time , or enjoying myself . \\nin fact there is no part in the movie that i liked or enjoyed . \\nthroughout the entire 127 minute running time , i was dying , constantly looking at my watch , and hoping maybe the projectioner would blow a bulb or something , sadly it didn't . \\nmy advice to hollywood : get new scripts , new acting classes , better directors and damnit , make films like american beauty more . \\n                                                                                                                                                                                                                                                                                                                                                                                                                                                                                                                                                                                                                                                                                                                                                                                                                                                                                                                                                                                                                                                                                                                                                                                                                                                                                                                                                                                                                                                                                                                                                                                                                                                                                                                                                                                                                                                                                                                                                                                                                                                                                                                                                                                                                                                                                                                                                                                                                                                                                                                                                                                                                                                                                                                                                                                                                     1\n",
       "pos    zero effect gets its title from the main character , daryl zero ( bill pullman ) , although we don't understand what it truly means until the very last line of dialogue in the film . \\nzero is a private investigator , perhaps the best private investigator who ever lived ( at least he'd like to think so ) . \\nhowever , he's a socially inept being , and eccentric in every possible way -- this fact certainly makes his talents as a private eye even more bewildering than they already are . \\nzero's accomplice is steve arlo ( ben stiller ) , a \" normal \" guy who does the business side of the job -- he's the one who actually speaks to clients and explains zero's greatness as an investigator . \\nthe opening scene has steve explaining the many virtues of zero's talents to soon-to-be client gregory stark ( ryan o'neal ) . \\nit turns out that stark has lost a key to a safe deposit box , and is now being blackmailed for something that he apparently knows nothing about . \\nzero takes the case , and the plot thickens . \\nhis path leads to a young , pretty paramedic named gloria sullivan ( kim dickens ) . \\ndespite her luminous and seemingly-harmless presence , she turns out to be the one blackmailing stark . \\nthrough his investigations , zero learns why , but not without developing feelings for gloria -- feelings that , because of his reclusive behavior , are new and confusing to him . \\ni have no particular affinity towards the mystery genre of film . \\ni can idly enjoy movies about private investigators , and , every once in a while , a film like chinatown comes a long that blows me away ( actually , no private eye film has ever reached chinatown's greatness ) . \\nzero effect , which is jake kasdan's first effort as writer/director , is a film about a private investigator that succeeds in all attempts : it's an original , funny , and completely involving motion picture . \\nwith so many cliches available to this genre , i find it amazing that kasdan avoided all of them . \\nbut he didn't just successfully avoid flaws : he has created a great film here , one that had me interested and fascinated from the first shot to the final moment . \\ntake , for starters , the great cast of characters . \\npullman is terrific as zero , showing a comic flair that i really haven't seen from him since spaceballs . \\nzero is the kind of guy who seems at ease switching personalities so frequently as he does here ; the fact that he's an almost exaggeratedly twisted , emotionally unstable man outside of his profession is not at all difficult to believe . \\npullman's performance is much more layered than it might seem at first glance , and the occasional voice-over as he's going through the motions of his job are insightful and often hilarious . \\nben stiller is also a very funny individual ; he's the kind of comedian who makes normal lines sound funny . \\n \" i'll shoot you , \" he says to stark at one point . \\n \" i have a gun , and everything . \" \\nhis character is also well-drawn , with an interesting subplot involving his girlfriend ( angela featherstone ) who is not happy with the extensive amounts of time he must spend away from her due to the unpredictability of his job . \\no'neal also gives his character a bit of depth ; and kim dickens , last seen ( and underused ) in mercury rising , gets a chance to show us her talent here , giving gloria the realism this kind of character really needs . \\ni find zero effect to be an immensely funny and witty film . \\nkasdan's humor is of the best kind -- soft spoken , and mostly dialogue-driven ( though there are some great visual jokes ) . \\nit's the kind of humor that's funny even after you've seen it five or six times . \\nthere's one scene in which zero talks about how detached he is , an how that makes him such a great detective . \\nwhat we see during this narration are various shots of him sitting on a bed , or standing motionlessly , with his hair destroyed and an utterly blank look painted on his unshaven face , his eyes pointing to something off camera , but obviously to nothing in particular . \\ni can't convey to you how funny this is , but what makes it great film making is that it has a point -- scenes like this are frequent , and they provide solid characterization of zero . \\nas a side note , i don't consider myself an average viewer when it comes to comedy ( not to sound elitist ) -- i find things funny that many do not , and vice versa . \\nthere was a clump of people near me in the theater laughing uproariously through this film , and the rest of the theater was relatively silent through most of it . \\ni have a feeling the humor here won't appeal to everyone , but there's certainly enough story and character development to keep anyone's interest . \\njake kasdan , son of writer/director lawrence kasdan , is only 22 years old . \\ni found this out after seeing the film , and i can't remember ever being so impressed with a film maker . \\nhis direction is stylish without being pretentious , and his writing is mature , full , and developed . \\nzero effect is the kind of film that i'll buy for my collection -- smart , original films like this are rare as it is , but this one actually has a heart and a soul . \\nat the end of the film , i was involved in the characters , and i was satisfied with the outcome . \\nand , with kasdan's undeniable talent at such a young age , all i can do is hope to see a lot more from him in the future . \\n     1\n",
       "Length: 1940, dtype: int64"
      ]
     },
     "execution_count": 37,
     "metadata": {},
     "output_type": "execute_result"
    }
   ],
   "source": [
    "df.value_counts()"
   ]
  },
  {
   "cell_type": "code",
   "execution_count": 38,
   "metadata": {},
   "outputs": [],
   "source": [
    "x=df['review']\n",
    "y=df['label']\n"
   ]
  },
  {
   "cell_type": "code",
   "execution_count": 39,
   "metadata": {},
   "outputs": [],
   "source": [
    "from sklearn.model_selection import train_test_split"
   ]
  },
  {
   "cell_type": "code",
   "execution_count": 40,
   "metadata": {},
   "outputs": [],
   "source": [
    "x_train,x_test,y_train,y_test = train_test_split(x,y,test_size=0.33,random_state=42)"
   ]
  },
  {
   "cell_type": "code",
   "execution_count": 41,
   "metadata": {},
   "outputs": [
    {
     "data": {
      "text/plain": [
       "((1340,), (660,))"
      ]
     },
     "execution_count": 41,
     "metadata": {},
     "output_type": "execute_result"
    }
   ],
   "source": [
    "x_train.shape, x_test.shape"
   ]
  },
  {
   "cell_type": "code",
   "execution_count": 42,
   "metadata": {},
   "outputs": [],
   "source": [
    "from sklearn.feature_extraction.text import TfidfVectorizer\n",
    "from sklearn.svm import LinearSVC\n",
    "from sklearn.pipeline import Pipeline"
   ]
  },
  {
   "cell_type": "code",
   "execution_count": 43,
   "metadata": {},
   "outputs": [],
   "source": [
    "text_csf = Pipeline([('tfidf',TfidfVectorizer()),('clf',LinearSVC())])"
   ]
  },
  {
   "cell_type": "code",
   "execution_count": 44,
   "metadata": {},
   "outputs": [
    {
     "ename": "ValueError",
     "evalue": "np.nan is an invalid document, expected byte or unicode string.",
     "output_type": "error",
     "traceback": [
      "\u001b[1;31m---------------------------------------------------------------------------\u001b[0m",
      "\u001b[1;31mValueError\u001b[0m                                Traceback (most recent call last)",
      "\u001b[1;32m<ipython-input-44-d2e72d0c8ff3>\u001b[0m in \u001b[0;36m<module>\u001b[1;34m\u001b[0m\n\u001b[1;32m----> 1\u001b[1;33m \u001b[0mtext_csf\u001b[0m\u001b[1;33m.\u001b[0m\u001b[0mfit\u001b[0m\u001b[1;33m(\u001b[0m\u001b[0mx_train\u001b[0m\u001b[1;33m,\u001b[0m\u001b[0my_train\u001b[0m\u001b[1;33m)\u001b[0m\u001b[1;33m\u001b[0m\u001b[1;33m\u001b[0m\u001b[0m\n\u001b[0m",
      "\u001b[1;32mc:\\users\\asus\\appdata\\local\\programs\\python\\python37\\lib\\site-packages\\sklearn\\pipeline.py\u001b[0m in \u001b[0;36mfit\u001b[1;34m(self, X, y, **fit_params)\u001b[0m\n\u001b[0;32m    339\u001b[0m         \"\"\"\n\u001b[0;32m    340\u001b[0m         \u001b[0mfit_params_steps\u001b[0m \u001b[1;33m=\u001b[0m \u001b[0mself\u001b[0m\u001b[1;33m.\u001b[0m\u001b[0m_check_fit_params\u001b[0m\u001b[1;33m(\u001b[0m\u001b[1;33m**\u001b[0m\u001b[0mfit_params\u001b[0m\u001b[1;33m)\u001b[0m\u001b[1;33m\u001b[0m\u001b[1;33m\u001b[0m\u001b[0m\n\u001b[1;32m--> 341\u001b[1;33m         \u001b[0mXt\u001b[0m \u001b[1;33m=\u001b[0m \u001b[0mself\u001b[0m\u001b[1;33m.\u001b[0m\u001b[0m_fit\u001b[0m\u001b[1;33m(\u001b[0m\u001b[0mX\u001b[0m\u001b[1;33m,\u001b[0m \u001b[0my\u001b[0m\u001b[1;33m,\u001b[0m \u001b[1;33m**\u001b[0m\u001b[0mfit_params_steps\u001b[0m\u001b[1;33m)\u001b[0m\u001b[1;33m\u001b[0m\u001b[1;33m\u001b[0m\u001b[0m\n\u001b[0m\u001b[0;32m    342\u001b[0m         with _print_elapsed_time('Pipeline',\n\u001b[0;32m    343\u001b[0m                                  self._log_message(len(self.steps) - 1)):\n",
      "\u001b[1;32mc:\\users\\asus\\appdata\\local\\programs\\python\\python37\\lib\\site-packages\\sklearn\\pipeline.py\u001b[0m in \u001b[0;36m_fit\u001b[1;34m(self, X, y, **fit_params_steps)\u001b[0m\n\u001b[0;32m    305\u001b[0m                 \u001b[0mmessage_clsname\u001b[0m\u001b[1;33m=\u001b[0m\u001b[1;34m'Pipeline'\u001b[0m\u001b[1;33m,\u001b[0m\u001b[1;33m\u001b[0m\u001b[1;33m\u001b[0m\u001b[0m\n\u001b[0;32m    306\u001b[0m                 \u001b[0mmessage\u001b[0m\u001b[1;33m=\u001b[0m\u001b[0mself\u001b[0m\u001b[1;33m.\u001b[0m\u001b[0m_log_message\u001b[0m\u001b[1;33m(\u001b[0m\u001b[0mstep_idx\u001b[0m\u001b[1;33m)\u001b[0m\u001b[1;33m,\u001b[0m\u001b[1;33m\u001b[0m\u001b[1;33m\u001b[0m\u001b[0m\n\u001b[1;32m--> 307\u001b[1;33m                 **fit_params_steps[name])\n\u001b[0m\u001b[0;32m    308\u001b[0m             \u001b[1;31m# Replace the transformer of the step with the fitted\u001b[0m\u001b[1;33m\u001b[0m\u001b[1;33m\u001b[0m\u001b[1;33m\u001b[0m\u001b[0m\n\u001b[0;32m    309\u001b[0m             \u001b[1;31m# transformer. This is necessary when loading the transformer\u001b[0m\u001b[1;33m\u001b[0m\u001b[1;33m\u001b[0m\u001b[1;33m\u001b[0m\u001b[0m\n",
      "\u001b[1;32mc:\\users\\asus\\appdata\\local\\programs\\python\\python37\\lib\\site-packages\\joblib\\memory.py\u001b[0m in \u001b[0;36m__call__\u001b[1;34m(self, *args, **kwargs)\u001b[0m\n\u001b[0;32m    350\u001b[0m \u001b[1;33m\u001b[0m\u001b[0m\n\u001b[0;32m    351\u001b[0m     \u001b[1;32mdef\u001b[0m \u001b[0m__call__\u001b[0m\u001b[1;33m(\u001b[0m\u001b[0mself\u001b[0m\u001b[1;33m,\u001b[0m \u001b[1;33m*\u001b[0m\u001b[0margs\u001b[0m\u001b[1;33m,\u001b[0m \u001b[1;33m**\u001b[0m\u001b[0mkwargs\u001b[0m\u001b[1;33m)\u001b[0m\u001b[1;33m:\u001b[0m\u001b[1;33m\u001b[0m\u001b[1;33m\u001b[0m\u001b[0m\n\u001b[1;32m--> 352\u001b[1;33m         \u001b[1;32mreturn\u001b[0m \u001b[0mself\u001b[0m\u001b[1;33m.\u001b[0m\u001b[0mfunc\u001b[0m\u001b[1;33m(\u001b[0m\u001b[1;33m*\u001b[0m\u001b[0margs\u001b[0m\u001b[1;33m,\u001b[0m \u001b[1;33m**\u001b[0m\u001b[0mkwargs\u001b[0m\u001b[1;33m)\u001b[0m\u001b[1;33m\u001b[0m\u001b[1;33m\u001b[0m\u001b[0m\n\u001b[0m\u001b[0;32m    353\u001b[0m \u001b[1;33m\u001b[0m\u001b[0m\n\u001b[0;32m    354\u001b[0m     \u001b[1;32mdef\u001b[0m \u001b[0mcall_and_shelve\u001b[0m\u001b[1;33m(\u001b[0m\u001b[0mself\u001b[0m\u001b[1;33m,\u001b[0m \u001b[1;33m*\u001b[0m\u001b[0margs\u001b[0m\u001b[1;33m,\u001b[0m \u001b[1;33m**\u001b[0m\u001b[0mkwargs\u001b[0m\u001b[1;33m)\u001b[0m\u001b[1;33m:\u001b[0m\u001b[1;33m\u001b[0m\u001b[1;33m\u001b[0m\u001b[0m\n",
      "\u001b[1;32mc:\\users\\asus\\appdata\\local\\programs\\python\\python37\\lib\\site-packages\\sklearn\\pipeline.py\u001b[0m in \u001b[0;36m_fit_transform_one\u001b[1;34m(transformer, X, y, weight, message_clsname, message, **fit_params)\u001b[0m\n\u001b[0;32m    752\u001b[0m     \u001b[1;32mwith\u001b[0m \u001b[0m_print_elapsed_time\u001b[0m\u001b[1;33m(\u001b[0m\u001b[0mmessage_clsname\u001b[0m\u001b[1;33m,\u001b[0m \u001b[0mmessage\u001b[0m\u001b[1;33m)\u001b[0m\u001b[1;33m:\u001b[0m\u001b[1;33m\u001b[0m\u001b[1;33m\u001b[0m\u001b[0m\n\u001b[0;32m    753\u001b[0m         \u001b[1;32mif\u001b[0m \u001b[0mhasattr\u001b[0m\u001b[1;33m(\u001b[0m\u001b[0mtransformer\u001b[0m\u001b[1;33m,\u001b[0m \u001b[1;34m'fit_transform'\u001b[0m\u001b[1;33m)\u001b[0m\u001b[1;33m:\u001b[0m\u001b[1;33m\u001b[0m\u001b[1;33m\u001b[0m\u001b[0m\n\u001b[1;32m--> 754\u001b[1;33m             \u001b[0mres\u001b[0m \u001b[1;33m=\u001b[0m \u001b[0mtransformer\u001b[0m\u001b[1;33m.\u001b[0m\u001b[0mfit_transform\u001b[0m\u001b[1;33m(\u001b[0m\u001b[0mX\u001b[0m\u001b[1;33m,\u001b[0m \u001b[0my\u001b[0m\u001b[1;33m,\u001b[0m \u001b[1;33m**\u001b[0m\u001b[0mfit_params\u001b[0m\u001b[1;33m)\u001b[0m\u001b[1;33m\u001b[0m\u001b[1;33m\u001b[0m\u001b[0m\n\u001b[0m\u001b[0;32m    755\u001b[0m         \u001b[1;32melse\u001b[0m\u001b[1;33m:\u001b[0m\u001b[1;33m\u001b[0m\u001b[1;33m\u001b[0m\u001b[0m\n\u001b[0;32m    756\u001b[0m             \u001b[0mres\u001b[0m \u001b[1;33m=\u001b[0m \u001b[0mtransformer\u001b[0m\u001b[1;33m.\u001b[0m\u001b[0mfit\u001b[0m\u001b[1;33m(\u001b[0m\u001b[0mX\u001b[0m\u001b[1;33m,\u001b[0m \u001b[0my\u001b[0m\u001b[1;33m,\u001b[0m \u001b[1;33m**\u001b[0m\u001b[0mfit_params\u001b[0m\u001b[1;33m)\u001b[0m\u001b[1;33m.\u001b[0m\u001b[0mtransform\u001b[0m\u001b[1;33m(\u001b[0m\u001b[0mX\u001b[0m\u001b[1;33m)\u001b[0m\u001b[1;33m\u001b[0m\u001b[1;33m\u001b[0m\u001b[0m\n",
      "\u001b[1;32mc:\\users\\asus\\appdata\\local\\programs\\python\\python37\\lib\\site-packages\\sklearn\\feature_extraction\\text.py\u001b[0m in \u001b[0;36mfit_transform\u001b[1;34m(self, raw_documents, y)\u001b[0m\n\u001b[0;32m   1848\u001b[0m         \"\"\"\n\u001b[0;32m   1849\u001b[0m         \u001b[0mself\u001b[0m\u001b[1;33m.\u001b[0m\u001b[0m_check_params\u001b[0m\u001b[1;33m(\u001b[0m\u001b[1;33m)\u001b[0m\u001b[1;33m\u001b[0m\u001b[1;33m\u001b[0m\u001b[0m\n\u001b[1;32m-> 1850\u001b[1;33m         \u001b[0mX\u001b[0m \u001b[1;33m=\u001b[0m \u001b[0msuper\u001b[0m\u001b[1;33m(\u001b[0m\u001b[1;33m)\u001b[0m\u001b[1;33m.\u001b[0m\u001b[0mfit_transform\u001b[0m\u001b[1;33m(\u001b[0m\u001b[0mraw_documents\u001b[0m\u001b[1;33m)\u001b[0m\u001b[1;33m\u001b[0m\u001b[1;33m\u001b[0m\u001b[0m\n\u001b[0m\u001b[0;32m   1851\u001b[0m         \u001b[0mself\u001b[0m\u001b[1;33m.\u001b[0m\u001b[0m_tfidf\u001b[0m\u001b[1;33m.\u001b[0m\u001b[0mfit\u001b[0m\u001b[1;33m(\u001b[0m\u001b[0mX\u001b[0m\u001b[1;33m)\u001b[0m\u001b[1;33m\u001b[0m\u001b[1;33m\u001b[0m\u001b[0m\n\u001b[0;32m   1852\u001b[0m         \u001b[1;31m# X is already a transformed view of raw_documents so\u001b[0m\u001b[1;33m\u001b[0m\u001b[1;33m\u001b[0m\u001b[1;33m\u001b[0m\u001b[0m\n",
      "\u001b[1;32mc:\\users\\asus\\appdata\\local\\programs\\python\\python37\\lib\\site-packages\\sklearn\\feature_extraction\\text.py\u001b[0m in \u001b[0;36mfit_transform\u001b[1;34m(self, raw_documents, y)\u001b[0m\n\u001b[0;32m   1202\u001b[0m \u001b[1;33m\u001b[0m\u001b[0m\n\u001b[0;32m   1203\u001b[0m         vocabulary, X = self._count_vocab(raw_documents,\n\u001b[1;32m-> 1204\u001b[1;33m                                           self.fixed_vocabulary_)\n\u001b[0m\u001b[0;32m   1205\u001b[0m \u001b[1;33m\u001b[0m\u001b[0m\n\u001b[0;32m   1206\u001b[0m         \u001b[1;32mif\u001b[0m \u001b[0mself\u001b[0m\u001b[1;33m.\u001b[0m\u001b[0mbinary\u001b[0m\u001b[1;33m:\u001b[0m\u001b[1;33m\u001b[0m\u001b[1;33m\u001b[0m\u001b[0m\n",
      "\u001b[1;32mc:\\users\\asus\\appdata\\local\\programs\\python\\python37\\lib\\site-packages\\sklearn\\feature_extraction\\text.py\u001b[0m in \u001b[0;36m_count_vocab\u001b[1;34m(self, raw_documents, fixed_vocab)\u001b[0m\n\u001b[0;32m   1113\u001b[0m         \u001b[1;32mfor\u001b[0m \u001b[0mdoc\u001b[0m \u001b[1;32min\u001b[0m \u001b[0mraw_documents\u001b[0m\u001b[1;33m:\u001b[0m\u001b[1;33m\u001b[0m\u001b[1;33m\u001b[0m\u001b[0m\n\u001b[0;32m   1114\u001b[0m             \u001b[0mfeature_counter\u001b[0m \u001b[1;33m=\u001b[0m \u001b[1;33m{\u001b[0m\u001b[1;33m}\u001b[0m\u001b[1;33m\u001b[0m\u001b[1;33m\u001b[0m\u001b[0m\n\u001b[1;32m-> 1115\u001b[1;33m             \u001b[1;32mfor\u001b[0m \u001b[0mfeature\u001b[0m \u001b[1;32min\u001b[0m \u001b[0manalyze\u001b[0m\u001b[1;33m(\u001b[0m\u001b[0mdoc\u001b[0m\u001b[1;33m)\u001b[0m\u001b[1;33m:\u001b[0m\u001b[1;33m\u001b[0m\u001b[1;33m\u001b[0m\u001b[0m\n\u001b[0m\u001b[0;32m   1116\u001b[0m                 \u001b[1;32mtry\u001b[0m\u001b[1;33m:\u001b[0m\u001b[1;33m\u001b[0m\u001b[1;33m\u001b[0m\u001b[0m\n\u001b[0;32m   1117\u001b[0m                     \u001b[0mfeature_idx\u001b[0m \u001b[1;33m=\u001b[0m \u001b[0mvocabulary\u001b[0m\u001b[1;33m[\u001b[0m\u001b[0mfeature\u001b[0m\u001b[1;33m]\u001b[0m\u001b[1;33m\u001b[0m\u001b[1;33m\u001b[0m\u001b[0m\n",
      "\u001b[1;32mc:\\users\\asus\\appdata\\local\\programs\\python\\python37\\lib\\site-packages\\sklearn\\feature_extraction\\text.py\u001b[0m in \u001b[0;36m_analyze\u001b[1;34m(doc, analyzer, tokenizer, ngrams, preprocessor, decoder, stop_words)\u001b[0m\n\u001b[0;32m     97\u001b[0m \u001b[1;33m\u001b[0m\u001b[0m\n\u001b[0;32m     98\u001b[0m     \u001b[1;32mif\u001b[0m \u001b[0mdecoder\u001b[0m \u001b[1;32mis\u001b[0m \u001b[1;32mnot\u001b[0m \u001b[1;32mNone\u001b[0m\u001b[1;33m:\u001b[0m\u001b[1;33m\u001b[0m\u001b[1;33m\u001b[0m\u001b[0m\n\u001b[1;32m---> 99\u001b[1;33m         \u001b[0mdoc\u001b[0m \u001b[1;33m=\u001b[0m \u001b[0mdecoder\u001b[0m\u001b[1;33m(\u001b[0m\u001b[0mdoc\u001b[0m\u001b[1;33m)\u001b[0m\u001b[1;33m\u001b[0m\u001b[1;33m\u001b[0m\u001b[0m\n\u001b[0m\u001b[0;32m    100\u001b[0m     \u001b[1;32mif\u001b[0m \u001b[0manalyzer\u001b[0m \u001b[1;32mis\u001b[0m \u001b[1;32mnot\u001b[0m \u001b[1;32mNone\u001b[0m\u001b[1;33m:\u001b[0m\u001b[1;33m\u001b[0m\u001b[1;33m\u001b[0m\u001b[0m\n\u001b[0;32m    101\u001b[0m         \u001b[0mdoc\u001b[0m \u001b[1;33m=\u001b[0m \u001b[0manalyzer\u001b[0m\u001b[1;33m(\u001b[0m\u001b[0mdoc\u001b[0m\u001b[1;33m)\u001b[0m\u001b[1;33m\u001b[0m\u001b[1;33m\u001b[0m\u001b[0m\n",
      "\u001b[1;32mc:\\users\\asus\\appdata\\local\\programs\\python\\python37\\lib\\site-packages\\sklearn\\feature_extraction\\text.py\u001b[0m in \u001b[0;36mdecode\u001b[1;34m(self, doc)\u001b[0m\n\u001b[0;32m    215\u001b[0m \u001b[1;33m\u001b[0m\u001b[0m\n\u001b[0;32m    216\u001b[0m         \u001b[1;32mif\u001b[0m \u001b[0mdoc\u001b[0m \u001b[1;32mis\u001b[0m \u001b[0mnp\u001b[0m\u001b[1;33m.\u001b[0m\u001b[0mnan\u001b[0m\u001b[1;33m:\u001b[0m\u001b[1;33m\u001b[0m\u001b[1;33m\u001b[0m\u001b[0m\n\u001b[1;32m--> 217\u001b[1;33m             raise ValueError(\"np.nan is an invalid document, expected byte or \"\n\u001b[0m\u001b[0;32m    218\u001b[0m                              \"unicode string.\")\n\u001b[0;32m    219\u001b[0m \u001b[1;33m\u001b[0m\u001b[0m\n",
      "\u001b[1;31mValueError\u001b[0m: np.nan is an invalid document, expected byte or unicode string."
     ]
    }
   ],
   "source": [
    "text_csf.fit(x_train,y_train)"
   ]
  },
  {
   "cell_type": "code",
   "execution_count": 45,
   "metadata": {},
   "outputs": [
    {
     "ename": "NotFittedError",
     "evalue": "Vocabulary not fitted or provided",
     "output_type": "error",
     "traceback": [
      "\u001b[1;31m---------------------------------------------------------------------------\u001b[0m",
      "\u001b[1;31mNotFittedError\u001b[0m                            Traceback (most recent call last)",
      "\u001b[1;32m<ipython-input-45-33feb49dabc6>\u001b[0m in \u001b[0;36m<module>\u001b[1;34m\u001b[0m\n\u001b[1;32m----> 1\u001b[1;33m \u001b[0mpred\u001b[0m \u001b[1;33m=\u001b[0m \u001b[0mtext_csf\u001b[0m\u001b[1;33m.\u001b[0m\u001b[0mpredict\u001b[0m\u001b[1;33m(\u001b[0m\u001b[0my_test\u001b[0m\u001b[1;33m)\u001b[0m\u001b[1;33m\u001b[0m\u001b[1;33m\u001b[0m\u001b[0m\n\u001b[0m",
      "\u001b[1;32mc:\\users\\asus\\appdata\\local\\programs\\python\\python37\\lib\\site-packages\\sklearn\\utils\\metaestimators.py\u001b[0m in \u001b[0;36m<lambda>\u001b[1;34m(*args, **kwargs)\u001b[0m\n\u001b[0;32m    118\u001b[0m \u001b[1;33m\u001b[0m\u001b[0m\n\u001b[0;32m    119\u001b[0m         \u001b[1;31m# lambda, but not partial, allows help() to work with update_wrapper\u001b[0m\u001b[1;33m\u001b[0m\u001b[1;33m\u001b[0m\u001b[1;33m\u001b[0m\u001b[0m\n\u001b[1;32m--> 120\u001b[1;33m         \u001b[0mout\u001b[0m \u001b[1;33m=\u001b[0m \u001b[1;32mlambda\u001b[0m \u001b[1;33m*\u001b[0m\u001b[0margs\u001b[0m\u001b[1;33m,\u001b[0m \u001b[1;33m**\u001b[0m\u001b[0mkwargs\u001b[0m\u001b[1;33m:\u001b[0m \u001b[0mself\u001b[0m\u001b[1;33m.\u001b[0m\u001b[0mfn\u001b[0m\u001b[1;33m(\u001b[0m\u001b[0mobj\u001b[0m\u001b[1;33m,\u001b[0m \u001b[1;33m*\u001b[0m\u001b[0margs\u001b[0m\u001b[1;33m,\u001b[0m \u001b[1;33m**\u001b[0m\u001b[0mkwargs\u001b[0m\u001b[1;33m)\u001b[0m\u001b[1;33m\u001b[0m\u001b[1;33m\u001b[0m\u001b[0m\n\u001b[0m\u001b[0;32m    121\u001b[0m         \u001b[1;31m# update the docstring of the returned function\u001b[0m\u001b[1;33m\u001b[0m\u001b[1;33m\u001b[0m\u001b[1;33m\u001b[0m\u001b[0m\n\u001b[0;32m    122\u001b[0m         \u001b[0mupdate_wrapper\u001b[0m\u001b[1;33m(\u001b[0m\u001b[0mout\u001b[0m\u001b[1;33m,\u001b[0m \u001b[0mself\u001b[0m\u001b[1;33m.\u001b[0m\u001b[0mfn\u001b[0m\u001b[1;33m)\u001b[0m\u001b[1;33m\u001b[0m\u001b[1;33m\u001b[0m\u001b[0m\n",
      "\u001b[1;32mc:\\users\\asus\\appdata\\local\\programs\\python\\python37\\lib\\site-packages\\sklearn\\pipeline.py\u001b[0m in \u001b[0;36mpredict\u001b[1;34m(self, X, **predict_params)\u001b[0m\n\u001b[0;32m    416\u001b[0m         \u001b[0mXt\u001b[0m \u001b[1;33m=\u001b[0m \u001b[0mX\u001b[0m\u001b[1;33m\u001b[0m\u001b[1;33m\u001b[0m\u001b[0m\n\u001b[0;32m    417\u001b[0m         \u001b[1;32mfor\u001b[0m \u001b[0m_\u001b[0m\u001b[1;33m,\u001b[0m \u001b[0mname\u001b[0m\u001b[1;33m,\u001b[0m \u001b[0mtransform\u001b[0m \u001b[1;32min\u001b[0m \u001b[0mself\u001b[0m\u001b[1;33m.\u001b[0m\u001b[0m_iter\u001b[0m\u001b[1;33m(\u001b[0m\u001b[0mwith_final\u001b[0m\u001b[1;33m=\u001b[0m\u001b[1;32mFalse\u001b[0m\u001b[1;33m)\u001b[0m\u001b[1;33m:\u001b[0m\u001b[1;33m\u001b[0m\u001b[1;33m\u001b[0m\u001b[0m\n\u001b[1;32m--> 418\u001b[1;33m             \u001b[0mXt\u001b[0m \u001b[1;33m=\u001b[0m \u001b[0mtransform\u001b[0m\u001b[1;33m.\u001b[0m\u001b[0mtransform\u001b[0m\u001b[1;33m(\u001b[0m\u001b[0mXt\u001b[0m\u001b[1;33m)\u001b[0m\u001b[1;33m\u001b[0m\u001b[1;33m\u001b[0m\u001b[0m\n\u001b[0m\u001b[0;32m    419\u001b[0m         \u001b[1;32mreturn\u001b[0m \u001b[0mself\u001b[0m\u001b[1;33m.\u001b[0m\u001b[0msteps\u001b[0m\u001b[1;33m[\u001b[0m\u001b[1;33m-\u001b[0m\u001b[1;36m1\u001b[0m\u001b[1;33m]\u001b[0m\u001b[1;33m[\u001b[0m\u001b[1;33m-\u001b[0m\u001b[1;36m1\u001b[0m\u001b[1;33m]\u001b[0m\u001b[1;33m.\u001b[0m\u001b[0mpredict\u001b[0m\u001b[1;33m(\u001b[0m\u001b[0mXt\u001b[0m\u001b[1;33m,\u001b[0m \u001b[1;33m**\u001b[0m\u001b[0mpredict_params\u001b[0m\u001b[1;33m)\u001b[0m\u001b[1;33m\u001b[0m\u001b[1;33m\u001b[0m\u001b[0m\n\u001b[0;32m    420\u001b[0m \u001b[1;33m\u001b[0m\u001b[0m\n",
      "\u001b[1;32mc:\\users\\asus\\appdata\\local\\programs\\python\\python37\\lib\\site-packages\\sklearn\\feature_extraction\\text.py\u001b[0m in \u001b[0;36mtransform\u001b[1;34m(self, raw_documents)\u001b[0m\n\u001b[0;32m   1872\u001b[0m         \u001b[0mcheck_is_fitted\u001b[0m\u001b[1;33m(\u001b[0m\u001b[0mself\u001b[0m\u001b[1;33m,\u001b[0m \u001b[0mmsg\u001b[0m\u001b[1;33m=\u001b[0m\u001b[1;34m'The TF-IDF vectorizer is not fitted'\u001b[0m\u001b[1;33m)\u001b[0m\u001b[1;33m\u001b[0m\u001b[1;33m\u001b[0m\u001b[0m\n\u001b[0;32m   1873\u001b[0m \u001b[1;33m\u001b[0m\u001b[0m\n\u001b[1;32m-> 1874\u001b[1;33m         \u001b[0mX\u001b[0m \u001b[1;33m=\u001b[0m \u001b[0msuper\u001b[0m\u001b[1;33m(\u001b[0m\u001b[1;33m)\u001b[0m\u001b[1;33m.\u001b[0m\u001b[0mtransform\u001b[0m\u001b[1;33m(\u001b[0m\u001b[0mraw_documents\u001b[0m\u001b[1;33m)\u001b[0m\u001b[1;33m\u001b[0m\u001b[1;33m\u001b[0m\u001b[0m\n\u001b[0m\u001b[0;32m   1875\u001b[0m         \u001b[1;32mreturn\u001b[0m \u001b[0mself\u001b[0m\u001b[1;33m.\u001b[0m\u001b[0m_tfidf\u001b[0m\u001b[1;33m.\u001b[0m\u001b[0mtransform\u001b[0m\u001b[1;33m(\u001b[0m\u001b[0mX\u001b[0m\u001b[1;33m,\u001b[0m \u001b[0mcopy\u001b[0m\u001b[1;33m=\u001b[0m\u001b[1;32mFalse\u001b[0m\u001b[1;33m)\u001b[0m\u001b[1;33m\u001b[0m\u001b[1;33m\u001b[0m\u001b[0m\n\u001b[0;32m   1876\u001b[0m \u001b[1;33m\u001b[0m\u001b[0m\n",
      "\u001b[1;32mc:\\users\\asus\\appdata\\local\\programs\\python\\python37\\lib\\site-packages\\sklearn\\feature_extraction\\text.py\u001b[0m in \u001b[0;36mtransform\u001b[1;34m(self, raw_documents)\u001b[0m\n\u001b[0;32m   1250\u001b[0m                 \u001b[1;34m\"Iterable over raw text documents expected, \"\u001b[0m\u001b[1;33m\u001b[0m\u001b[1;33m\u001b[0m\u001b[0m\n\u001b[0;32m   1251\u001b[0m                 \"string object received.\")\n\u001b[1;32m-> 1252\u001b[1;33m         \u001b[0mself\u001b[0m\u001b[1;33m.\u001b[0m\u001b[0m_check_vocabulary\u001b[0m\u001b[1;33m(\u001b[0m\u001b[1;33m)\u001b[0m\u001b[1;33m\u001b[0m\u001b[1;33m\u001b[0m\u001b[0m\n\u001b[0m\u001b[0;32m   1253\u001b[0m \u001b[1;33m\u001b[0m\u001b[0m\n\u001b[0;32m   1254\u001b[0m         \u001b[1;31m# use the same matrix-building strategy as fit_transform\u001b[0m\u001b[1;33m\u001b[0m\u001b[1;33m\u001b[0m\u001b[1;33m\u001b[0m\u001b[0m\n",
      "\u001b[1;32mc:\\users\\asus\\appdata\\local\\programs\\python\\python37\\lib\\site-packages\\sklearn\\feature_extraction\\text.py\u001b[0m in \u001b[0;36m_check_vocabulary\u001b[1;34m(self)\u001b[0m\n\u001b[0;32m    470\u001b[0m             \u001b[0mself\u001b[0m\u001b[1;33m.\u001b[0m\u001b[0m_validate_vocabulary\u001b[0m\u001b[1;33m(\u001b[0m\u001b[1;33m)\u001b[0m\u001b[1;33m\u001b[0m\u001b[1;33m\u001b[0m\u001b[0m\n\u001b[0;32m    471\u001b[0m             \u001b[1;32mif\u001b[0m \u001b[1;32mnot\u001b[0m \u001b[0mself\u001b[0m\u001b[1;33m.\u001b[0m\u001b[0mfixed_vocabulary_\u001b[0m\u001b[1;33m:\u001b[0m\u001b[1;33m\u001b[0m\u001b[1;33m\u001b[0m\u001b[0m\n\u001b[1;32m--> 472\u001b[1;33m                 \u001b[1;32mraise\u001b[0m \u001b[0mNotFittedError\u001b[0m\u001b[1;33m(\u001b[0m\u001b[1;34m\"Vocabulary not fitted or provided\"\u001b[0m\u001b[1;33m)\u001b[0m\u001b[1;33m\u001b[0m\u001b[1;33m\u001b[0m\u001b[0m\n\u001b[0m\u001b[0;32m    473\u001b[0m \u001b[1;33m\u001b[0m\u001b[0m\n\u001b[0;32m    474\u001b[0m         \u001b[1;32mif\u001b[0m \u001b[0mlen\u001b[0m\u001b[1;33m(\u001b[0m\u001b[0mself\u001b[0m\u001b[1;33m.\u001b[0m\u001b[0mvocabulary_\u001b[0m\u001b[1;33m)\u001b[0m \u001b[1;33m==\u001b[0m \u001b[1;36m0\u001b[0m\u001b[1;33m:\u001b[0m\u001b[1;33m\u001b[0m\u001b[1;33m\u001b[0m\u001b[0m\n",
      "\u001b[1;31mNotFittedError\u001b[0m: Vocabulary not fitted or provided"
     ]
    }
   ],
   "source": [
    "pred = text_csf.predict(y_test)"
   ]
  },
  {
   "cell_type": "code",
   "execution_count": 46,
   "metadata": {},
   "outputs": [],
   "source": [
    "from sklearn.metrics import confusion_matrix,classification_report,accuracy_score"
   ]
  },
  {
   "cell_type": "code",
   "execution_count": 47,
   "metadata": {},
   "outputs": [
    {
     "ename": "NameError",
     "evalue": "name 'pred' is not defined",
     "output_type": "error",
     "traceback": [
      "\u001b[1;31m---------------------------------------------------------------------------\u001b[0m",
      "\u001b[1;31mNameError\u001b[0m                                 Traceback (most recent call last)",
      "\u001b[1;32m<ipython-input-47-c7768593ae95>\u001b[0m in \u001b[0;36m<module>\u001b[1;34m\u001b[0m\n\u001b[1;32m----> 1\u001b[1;33m \u001b[0mprint\u001b[0m\u001b[1;33m(\u001b[0m\u001b[0mconfusion_matrix\u001b[0m\u001b[1;33m(\u001b[0m\u001b[0my_test\u001b[0m\u001b[1;33m,\u001b[0m\u001b[0mpred\u001b[0m\u001b[1;33m)\u001b[0m\u001b[1;33m)\u001b[0m\u001b[1;33m\u001b[0m\u001b[1;33m\u001b[0m\u001b[0m\n\u001b[0m",
      "\u001b[1;31mNameError\u001b[0m: name 'pred' is not defined"
     ]
    }
   ],
   "source": [
    "print(confusion_matrix(y_test,pred))"
   ]
  },
  {
   "cell_type": "code",
   "execution_count": 48,
   "metadata": {},
   "outputs": [
    {
     "ename": "NameError",
     "evalue": "name 'pred' is not defined",
     "output_type": "error",
     "traceback": [
      "\u001b[1;31m---------------------------------------------------------------------------\u001b[0m",
      "\u001b[1;31mNameError\u001b[0m                                 Traceback (most recent call last)",
      "\u001b[1;32m<ipython-input-48-7438163cdb59>\u001b[0m in \u001b[0;36m<module>\u001b[1;34m\u001b[0m\n\u001b[1;32m----> 1\u001b[1;33m \u001b[0mprint\u001b[0m\u001b[1;33m(\u001b[0m\u001b[0mclassification_report\u001b[0m\u001b[1;33m(\u001b[0m\u001b[0my_test\u001b[0m\u001b[1;33m,\u001b[0m\u001b[0mpred\u001b[0m\u001b[1;33m)\u001b[0m\u001b[1;33m)\u001b[0m\u001b[1;33m\u001b[0m\u001b[1;33m\u001b[0m\u001b[0m\n\u001b[0m",
      "\u001b[1;31mNameError\u001b[0m: name 'pred' is not defined"
     ]
    }
   ],
   "source": [
    "print(classification_report(y_test,pred))"
   ]
  },
  {
   "cell_type": "code",
   "execution_count": 49,
   "metadata": {},
   "outputs": [
    {
     "ename": "NameError",
     "evalue": "name 'pred' is not defined",
     "output_type": "error",
     "traceback": [
      "\u001b[1;31m---------------------------------------------------------------------------\u001b[0m",
      "\u001b[1;31mNameError\u001b[0m                                 Traceback (most recent call last)",
      "\u001b[1;32m<ipython-input-49-f69da3f4ba34>\u001b[0m in \u001b[0;36m<module>\u001b[1;34m\u001b[0m\n\u001b[1;32m----> 1\u001b[1;33m \u001b[0mprint\u001b[0m\u001b[1;33m(\u001b[0m\u001b[0maccuracy_score\u001b[0m\u001b[1;33m(\u001b[0m\u001b[0my_test\u001b[0m\u001b[1;33m,\u001b[0m\u001b[0mpred\u001b[0m\u001b[1;33m)\u001b[0m\u001b[1;33m)\u001b[0m\u001b[1;33m\u001b[0m\u001b[1;33m\u001b[0m\u001b[0m\n\u001b[0m",
      "\u001b[1;31mNameError\u001b[0m: name 'pred' is not defined"
     ]
    }
   ],
   "source": [
    "print(accuracy_score(y_test,pred))"
   ]
  },
  {
   "cell_type": "code",
   "execution_count": null,
   "metadata": {},
   "outputs": [],
   "source": []
  },
  {
   "cell_type": "code",
   "execution_count": null,
   "metadata": {},
   "outputs": [],
   "source": []
  }
 ],
 "metadata": {
  "kernelspec": {
   "display_name": "Python 3",
   "language": "python",
   "name": "python3"
  },
  "language_info": {
   "codemirror_mode": {
    "name": "ipython",
    "version": 3
   },
   "file_extension": ".py",
   "mimetype": "text/x-python",
   "name": "python",
   "nbconvert_exporter": "python",
   "pygments_lexer": "ipython3",
   "version": "3.7.1"
  }
 },
 "nbformat": 4,
 "nbformat_minor": 2
}
