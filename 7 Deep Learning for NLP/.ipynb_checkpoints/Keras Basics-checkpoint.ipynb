{
 "cells": [
  {
   "cell_type": "code",
   "execution_count": 1,
   "metadata": {},
   "outputs": [],
   "source": [
    "import numpy as np"
   ]
  },
  {
   "cell_type": "code",
   "execution_count": 2,
   "metadata": {},
   "outputs": [],
   "source": [
    "from sklearn.datasets import load_iris"
   ]
  },
  {
   "cell_type": "code",
   "execution_count": 3,
   "metadata": {},
   "outputs": [],
   "source": [
    "iris = load_iris()"
   ]
  },
  {
   "cell_type": "code",
   "execution_count": 4,
   "metadata": {},
   "outputs": [
    {
     "data": {
      "text/plain": [
       "sklearn.utils.Bunch"
      ]
     },
     "execution_count": 4,
     "metadata": {},
     "output_type": "execute_result"
    }
   ],
   "source": [
    "type(iris)"
   ]
  },
  {
   "cell_type": "code",
   "execution_count": 5,
   "metadata": {},
   "outputs": [
    {
     "name": "stdout",
     "output_type": "stream",
     "text": [
      ".. _iris_dataset:\n",
      "\n",
      "Iris plants dataset\n",
      "--------------------\n",
      "\n",
      "**Data Set Characteristics:**\n",
      "\n",
      "    :Number of Instances: 150 (50 in each of three classes)\n",
      "    :Number of Attributes: 4 numeric, predictive attributes and the class\n",
      "    :Attribute Information:\n",
      "        - sepal length in cm\n",
      "        - sepal width in cm\n",
      "        - petal length in cm\n",
      "        - petal width in cm\n",
      "        - class:\n",
      "                - Iris-Setosa\n",
      "                - Iris-Versicolour\n",
      "                - Iris-Virginica\n",
      "                \n",
      "    :Summary Statistics:\n",
      "\n",
      "    ============== ==== ==== ======= ===== ====================\n",
      "                    Min  Max   Mean    SD   Class Correlation\n",
      "    ============== ==== ==== ======= ===== ====================\n",
      "    sepal length:   4.3  7.9   5.84   0.83    0.7826\n",
      "    sepal width:    2.0  4.4   3.05   0.43   -0.4194\n",
      "    petal length:   1.0  6.9   3.76   1.76    0.9490  (high!)\n",
      "    petal width:    0.1  2.5   1.20   0.76    0.9565  (high!)\n",
      "    ============== ==== ==== ======= ===== ====================\n",
      "\n",
      "    :Missing Attribute Values: None\n",
      "    :Class Distribution: 33.3% for each of 3 classes.\n",
      "    :Creator: R.A. Fisher\n",
      "    :Donor: Michael Marshall (MARSHALL%PLU@io.arc.nasa.gov)\n",
      "    :Date: July, 1988\n",
      "\n",
      "The famous Iris database, first used by Sir R.A. Fisher. The dataset is taken\n",
      "from Fisher's paper. Note that it's the same as in R, but not as in the UCI\n",
      "Machine Learning Repository, which has two wrong data points.\n",
      "\n",
      "This is perhaps the best known database to be found in the\n",
      "pattern recognition literature.  Fisher's paper is a classic in the field and\n",
      "is referenced frequently to this day.  (See Duda & Hart, for example.)  The\n",
      "data set contains 3 classes of 50 instances each, where each class refers to a\n",
      "type of iris plant.  One class is linearly separable from the other 2; the\n",
      "latter are NOT linearly separable from each other.\n",
      "\n",
      ".. topic:: References\n",
      "\n",
      "   - Fisher, R.A. \"The use of multiple measurements in taxonomic problems\"\n",
      "     Annual Eugenics, 7, Part II, 179-188 (1936); also in \"Contributions to\n",
      "     Mathematical Statistics\" (John Wiley, NY, 1950).\n",
      "   - Duda, R.O., & Hart, P.E. (1973) Pattern Classification and Scene Analysis.\n",
      "     (Q327.D83) John Wiley & Sons.  ISBN 0-471-22361-1.  See page 218.\n",
      "   - Dasarathy, B.V. (1980) \"Nosing Around the Neighborhood: A New System\n",
      "     Structure and Classification Rule for Recognition in Partially Exposed\n",
      "     Environments\".  IEEE Transactions on Pattern Analysis and Machine\n",
      "     Intelligence, Vol. PAMI-2, No. 1, 67-71.\n",
      "   - Gates, G.W. (1972) \"The Reduced Nearest Neighbor Rule\".  IEEE Transactions\n",
      "     on Information Theory, May 1972, 431-433.\n",
      "   - See also: 1988 MLC Proceedings, 54-64.  Cheeseman et al\"s AUTOCLASS II\n",
      "     conceptual clustering system finds 3 classes in the data.\n",
      "   - Many, many more ...\n"
     ]
    }
   ],
   "source": [
    "print(iris.DESCR)"
   ]
  },
  {
   "cell_type": "code",
   "execution_count": 6,
   "metadata": {},
   "outputs": [],
   "source": [
    "x = iris.data"
   ]
  },
  {
   "cell_type": "code",
   "execution_count": 8,
   "metadata": {},
   "outputs": [],
   "source": [
    "# x"
   ]
  },
  {
   "cell_type": "code",
   "execution_count": 9,
   "metadata": {},
   "outputs": [],
   "source": [
    " y = iris.target"
   ]
  },
  {
   "cell_type": "code",
   "execution_count": 11,
   "metadata": {},
   "outputs": [],
   "source": [
    "# y"
   ]
  },
  {
   "cell_type": "code",
   "execution_count": 12,
   "metadata": {},
   "outputs": [],
   "source": [
    "# class 0 --->[1,0,0]\n",
    "# class 1 --->[0,1,0]\n",
    "# class 2 --->[0,0,1]"
   ]
  },
  {
   "cell_type": "code",
   "execution_count": 16,
   "metadata": {},
   "outputs": [],
   "source": [
    "from keras.utils import to_categorical"
   ]
  },
  {
   "cell_type": "code",
   "execution_count": 17,
   "metadata": {},
   "outputs": [],
   "source": [
    "y = to_categorical(y)"
   ]
  },
  {
   "cell_type": "code",
   "execution_count": 19,
   "metadata": {},
   "outputs": [],
   "source": [
    "# y"
   ]
  },
  {
   "cell_type": "code",
   "execution_count": 20,
   "metadata": {},
   "outputs": [],
   "source": [
    "from sklearn.model_selection import train_test_split"
   ]
  },
  {
   "cell_type": "code",
   "execution_count": 21,
   "metadata": {},
   "outputs": [],
   "source": [
    "X_train, X_test, y_train, y_test = train_test_split(x,y,test_size=0.33,random_state=42)"
   ]
  },
  {
   "cell_type": "code",
   "execution_count": 27,
   "metadata": {},
   "outputs": [],
   "source": [
    "# y_train"
   ]
  },
  {
   "cell_type": "code",
   "execution_count": 28,
   "metadata": {},
   "outputs": [],
   "source": [
    "from sklearn.preprocessing import MinMaxScaler"
   ]
  },
  {
   "cell_type": "code",
   "execution_count": 29,
   "metadata": {},
   "outputs": [],
   "source": [
    "prepro = MinMaxScaler()"
   ]
  },
  {
   "cell_type": "code",
   "execution_count": 30,
   "metadata": {},
   "outputs": [
    {
     "data": {
      "text/plain": [
       "MinMaxScaler()"
      ]
     },
     "execution_count": 30,
     "metadata": {},
     "output_type": "execute_result"
    }
   ],
   "source": [
    "prepro.fit(X_train)"
   ]
  },
  {
   "cell_type": "code",
   "execution_count": 31,
   "metadata": {},
   "outputs": [],
   "source": [
    "scaler_x_train = prepro.transform(X_train)\n",
    "scaler_x_test = prepro.transform(X_test)"
   ]
  },
  {
   "cell_type": "code",
   "execution_count": 34,
   "metadata": {},
   "outputs": [],
   "source": [
    "# scaler_x_test"
   ]
  },
  {
   "cell_type": "code",
   "execution_count": 35,
   "metadata": {},
   "outputs": [],
   "source": [
    "from keras.models import Sequential\n",
    "from keras.layers import Dense"
   ]
  },
  {
   "cell_type": "code",
   "execution_count": 37,
   "metadata": {},
   "outputs": [],
   "source": [
    "model = Sequential()\n",
    "model.add(Dense(8,input_dim=4,activation='relu'))\n",
    "model.add(Dense(8,input_dim=4,activation='relu'))\n",
    "model.add(Dense(3,activation='softmax'))\n",
    "model.compile(loss='categorical_crossentropy',optimizer='adam',metrics=['accuracy'])"
   ]
  },
  {
   "cell_type": "code",
   "execution_count": 38,
   "metadata": {},
   "outputs": [
    {
     "name": "stdout",
     "output_type": "stream",
     "text": [
      "Model: \"sequential_1\"\n",
      "_________________________________________________________________\n",
      "Layer (type)                 Output Shape              Param #   \n",
      "=================================================================\n",
      "dense (Dense)                (None, 8)                 40        \n",
      "_________________________________________________________________\n",
      "dense_1 (Dense)              (None, 8)                 72        \n",
      "_________________________________________________________________\n",
      "dense_2 (Dense)              (None, 3)                 27        \n",
      "=================================================================\n",
      "Total params: 139\n",
      "Trainable params: 139\n",
      "Non-trainable params: 0\n",
      "_________________________________________________________________\n"
     ]
    }
   ],
   "source": [
    "model.summary()"
   ]
  },
  {
   "cell_type": "code",
   "execution_count": 40,
   "metadata": {},
   "outputs": [
    {
     "name": "stdout",
     "output_type": "stream",
     "text": [
      "Epoch 1/150\n",
      "4/4 - 0s - loss: 0.4750 - accuracy: 0.9100\n",
      "Epoch 2/150\n",
      "4/4 - 0s - loss: 0.4736 - accuracy: 0.9100\n",
      "Epoch 3/150\n",
      "4/4 - 0s - loss: 0.4727 - accuracy: 0.9300\n",
      "Epoch 4/150\n",
      "4/4 - 0s - loss: 0.4711 - accuracy: 0.9300\n",
      "Epoch 5/150\n",
      "4/4 - 0s - loss: 0.4689 - accuracy: 0.9300\n",
      "Epoch 6/150\n",
      "4/4 - 0s - loss: 0.4671 - accuracy: 0.9300\n",
      "Epoch 7/150\n",
      "4/4 - 0s - loss: 0.4654 - accuracy: 0.9100\n",
      "Epoch 8/150\n",
      "4/4 - 0s - loss: 0.4636 - accuracy: 0.9100\n",
      "Epoch 9/150\n",
      "4/4 - 0s - loss: 0.4621 - accuracy: 0.8900\n",
      "Epoch 10/150\n",
      "4/4 - 0s - loss: 0.4609 - accuracy: 0.8900\n",
      "Epoch 11/150\n",
      "4/4 - 0s - loss: 0.4591 - accuracy: 0.8800\n",
      "Epoch 12/150\n",
      "4/4 - 0s - loss: 0.4574 - accuracy: 0.8900\n",
      "Epoch 13/150\n",
      "4/4 - 0s - loss: 0.4558 - accuracy: 0.8900\n",
      "Epoch 14/150\n",
      "4/4 - 0s - loss: 0.4543 - accuracy: 0.8800\n",
      "Epoch 15/150\n",
      "4/4 - 0s - loss: 0.4528 - accuracy: 0.8700\n",
      "Epoch 16/150\n",
      "4/4 - 0s - loss: 0.4513 - accuracy: 0.8600\n",
      "Epoch 17/150\n",
      "4/4 - 0s - loss: 0.4501 - accuracy: 0.8600\n",
      "Epoch 18/150\n",
      "4/4 - 0s - loss: 0.4488 - accuracy: 0.8400\n",
      "Epoch 19/150\n",
      "4/4 - 0s - loss: 0.4473 - accuracy: 0.8300\n",
      "Epoch 20/150\n",
      "4/4 - 0s - loss: 0.4458 - accuracy: 0.8400\n",
      "Epoch 21/150\n",
      "4/4 - 0s - loss: 0.4441 - accuracy: 0.8500\n",
      "Epoch 22/150\n",
      "4/4 - 0s - loss: 0.4429 - accuracy: 0.8200\n",
      "Epoch 23/150\n",
      "4/4 - 0s - loss: 0.4416 - accuracy: 0.8000\n",
      "Epoch 24/150\n",
      "4/4 - 0s - loss: 0.4405 - accuracy: 0.7900\n",
      "Epoch 25/150\n",
      "4/4 - 0s - loss: 0.4390 - accuracy: 0.7800\n",
      "Epoch 26/150\n",
      "4/4 - 0s - loss: 0.4377 - accuracy: 0.7800\n",
      "Epoch 27/150\n",
      "4/4 - 0s - loss: 0.4356 - accuracy: 0.7900\n",
      "Epoch 28/150\n",
      "4/4 - 0s - loss: 0.4338 - accuracy: 0.8600\n",
      "Epoch 29/150\n",
      "4/4 - 0s - loss: 0.4323 - accuracy: 0.8600\n",
      "Epoch 30/150\n",
      "4/4 - 0s - loss: 0.4307 - accuracy: 0.8600\n",
      "Epoch 31/150\n",
      "4/4 - 0s - loss: 0.4290 - accuracy: 0.9000\n",
      "Epoch 32/150\n",
      "4/4 - 0s - loss: 0.4279 - accuracy: 0.9200\n",
      "Epoch 33/150\n",
      "4/4 - 0s - loss: 0.4268 - accuracy: 0.9200\n",
      "Epoch 34/150\n",
      "4/4 - 0s - loss: 0.4252 - accuracy: 0.9300\n",
      "Epoch 35/150\n",
      "4/4 - 0s - loss: 0.4237 - accuracy: 0.9300\n",
      "Epoch 36/150\n",
      "4/4 - 0s - loss: 0.4222 - accuracy: 0.9300\n",
      "Epoch 37/150\n",
      "4/4 - 0s - loss: 0.4204 - accuracy: 0.9300\n",
      "Epoch 38/150\n",
      "4/4 - 0s - loss: 0.4186 - accuracy: 0.9300\n",
      "Epoch 39/150\n",
      "4/4 - 0s - loss: 0.4163 - accuracy: 0.9300\n",
      "Epoch 40/150\n",
      "4/4 - 0s - loss: 0.4142 - accuracy: 0.9300\n",
      "Epoch 41/150\n",
      "4/4 - 0s - loss: 0.4119 - accuracy: 0.9300\n",
      "Epoch 42/150\n",
      "4/4 - 0s - loss: 0.4094 - accuracy: 0.9400\n",
      "Epoch 43/150\n",
      "4/4 - 0s - loss: 0.4068 - accuracy: 0.9400\n",
      "Epoch 44/150\n",
      "4/4 - 0s - loss: 0.4038 - accuracy: 0.9500\n",
      "Epoch 45/150\n",
      "4/4 - 0s - loss: 0.4014 - accuracy: 0.9500\n",
      "Epoch 46/150\n",
      "4/4 - 0s - loss: 0.3992 - accuracy: 0.9500\n",
      "Epoch 47/150\n",
      "4/4 - 0s - loss: 0.3967 - accuracy: 0.9500\n",
      "Epoch 48/150\n",
      "4/4 - 0s - loss: 0.3946 - accuracy: 0.9500\n",
      "Epoch 49/150\n",
      "4/4 - 0s - loss: 0.3929 - accuracy: 0.9500\n",
      "Epoch 50/150\n",
      "4/4 - 0s - loss: 0.3898 - accuracy: 0.9500\n",
      "Epoch 51/150\n",
      "4/4 - 0s - loss: 0.3875 - accuracy: 0.9500\n",
      "Epoch 52/150\n",
      "4/4 - 0s - loss: 0.3851 - accuracy: 0.9500\n",
      "Epoch 53/150\n",
      "4/4 - 0s - loss: 0.3831 - accuracy: 0.9500\n",
      "Epoch 54/150\n",
      "4/4 - 0s - loss: 0.3806 - accuracy: 0.9500\n",
      "Epoch 55/150\n",
      "4/4 - 0s - loss: 0.3782 - accuracy: 0.9500\n",
      "Epoch 56/150\n",
      "4/4 - 0s - loss: 0.3760 - accuracy: 0.9500\n",
      "Epoch 57/150\n",
      "4/4 - 0s - loss: 0.3737 - accuracy: 0.9500\n",
      "Epoch 58/150\n",
      "4/4 - 0s - loss: 0.3714 - accuracy: 0.9500\n",
      "Epoch 59/150\n",
      "4/4 - 0s - loss: 0.3695 - accuracy: 0.9500\n",
      "Epoch 60/150\n",
      "4/4 - 0s - loss: 0.3693 - accuracy: 0.9300\n",
      "Epoch 61/150\n",
      "4/4 - 0s - loss: 0.3680 - accuracy: 0.9100\n",
      "Epoch 62/150\n",
      "4/4 - 0s - loss: 0.3663 - accuracy: 0.9100\n",
      "Epoch 63/150\n",
      "4/4 - 0s - loss: 0.3634 - accuracy: 0.9200\n",
      "Epoch 64/150\n",
      "4/4 - 0s - loss: 0.3605 - accuracy: 0.9300\n",
      "Epoch 65/150\n",
      "4/4 - 0s - loss: 0.3573 - accuracy: 0.9500\n",
      "Epoch 66/150\n",
      "4/4 - 0s - loss: 0.3538 - accuracy: 0.9600\n",
      "Epoch 67/150\n",
      "4/4 - 0s - loss: 0.3525 - accuracy: 0.9500\n",
      "Epoch 68/150\n",
      "4/4 - 0s - loss: 0.3501 - accuracy: 0.9500\n",
      "Epoch 69/150\n",
      "4/4 - 0s - loss: 0.3480 - accuracy: 0.9500\n",
      "Epoch 70/150\n",
      "4/4 - 0s - loss: 0.3455 - accuracy: 0.9500\n",
      "Epoch 71/150\n",
      "4/4 - 0s - loss: 0.3429 - accuracy: 0.9500\n",
      "Epoch 72/150\n",
      "4/4 - 0s - loss: 0.3404 - accuracy: 0.9600\n",
      "Epoch 73/150\n",
      "4/4 - 0s - loss: 0.3387 - accuracy: 0.9600\n",
      "Epoch 74/150\n",
      "4/4 - 0s - loss: 0.3363 - accuracy: 0.9500\n",
      "Epoch 75/150\n",
      "4/4 - 0s - loss: 0.3340 - accuracy: 0.9600\n",
      "Epoch 76/150\n",
      "4/4 - 0s - loss: 0.3318 - accuracy: 0.9600\n",
      "Epoch 77/150\n",
      "4/4 - 0s - loss: 0.3298 - accuracy: 0.9600\n",
      "Epoch 78/150\n",
      "4/4 - 0s - loss: 0.3278 - accuracy: 0.9600\n",
      "Epoch 79/150\n",
      "4/4 - 0s - loss: 0.3258 - accuracy: 0.9600\n",
      "Epoch 80/150\n",
      "4/4 - 0s - loss: 0.3235 - accuracy: 0.9500\n",
      "Epoch 81/150\n",
      "4/4 - 0s - loss: 0.3221 - accuracy: 0.9500\n",
      "Epoch 82/150\n",
      "4/4 - 0s - loss: 0.3199 - accuracy: 0.9500\n",
      "Epoch 83/150\n",
      "4/4 - 0s - loss: 0.3175 - accuracy: 0.9500\n",
      "Epoch 84/150\n",
      "4/4 - 0s - loss: 0.3152 - accuracy: 0.9500\n",
      "Epoch 85/150\n",
      "4/4 - 0s - loss: 0.3129 - accuracy: 0.9500\n",
      "Epoch 86/150\n",
      "4/4 - 0s - loss: 0.3109 - accuracy: 0.9500\n",
      "Epoch 87/150\n",
      "4/4 - 0s - loss: 0.3089 - accuracy: 0.9500\n",
      "Epoch 88/150\n",
      "4/4 - 0s - loss: 0.3077 - accuracy: 0.9600\n",
      "Epoch 89/150\n",
      "4/4 - 0s - loss: 0.3056 - accuracy: 0.9600\n",
      "Epoch 90/150\n",
      "4/4 - 0s - loss: 0.3036 - accuracy: 0.9600\n",
      "Epoch 91/150\n",
      "4/4 - 0s - loss: 0.3017 - accuracy: 0.9600\n",
      "Epoch 92/150\n",
      "4/4 - 0s - loss: 0.2992 - accuracy: 0.9600\n",
      "Epoch 93/150\n",
      "4/4 - 0s - loss: 0.2970 - accuracy: 0.9600\n",
      "Epoch 94/150\n",
      "4/4 - 0s - loss: 0.2955 - accuracy: 0.9500\n",
      "Epoch 95/150\n",
      "4/4 - 0s - loss: 0.2944 - accuracy: 0.9400\n",
      "Epoch 96/150\n",
      "4/4 - 0s - loss: 0.2927 - accuracy: 0.9400\n",
      "Epoch 97/150\n",
      "4/4 - 0s - loss: 0.2901 - accuracy: 0.9400\n",
      "Epoch 98/150\n",
      "4/4 - 0s - loss: 0.2883 - accuracy: 0.9500\n",
      "Epoch 99/150\n",
      "4/4 - 0s - loss: 0.2861 - accuracy: 0.9500\n",
      "Epoch 100/150\n",
      "4/4 - 0s - loss: 0.2844 - accuracy: 0.9500\n",
      "Epoch 101/150\n",
      "4/4 - 0s - loss: 0.2826 - accuracy: 0.9500\n",
      "Epoch 102/150\n",
      "4/4 - 0s - loss: 0.2806 - accuracy: 0.9500\n",
      "Epoch 103/150\n",
      "4/4 - 0s - loss: 0.2791 - accuracy: 0.9500\n",
      "Epoch 104/150\n",
      "4/4 - 0s - loss: 0.2771 - accuracy: 0.9500\n",
      "Epoch 105/150\n",
      "4/4 - 0s - loss: 0.2754 - accuracy: 0.9500\n",
      "Epoch 106/150\n",
      "4/4 - 0s - loss: 0.2741 - accuracy: 0.9400\n",
      "Epoch 107/150\n",
      "4/4 - 0s - loss: 0.2727 - accuracy: 0.9500\n",
      "Epoch 108/150\n",
      "4/4 - 0s - loss: 0.2710 - accuracy: 0.9500\n",
      "Epoch 109/150\n",
      "4/4 - 0s - loss: 0.2685 - accuracy: 0.9400\n",
      "Epoch 110/150\n",
      "4/4 - 0s - loss: 0.2660 - accuracy: 0.9500\n",
      "Epoch 111/150\n",
      "4/4 - 0s - loss: 0.2655 - accuracy: 0.9600\n",
      "Epoch 112/150\n",
      "4/4 - 0s - loss: 0.2638 - accuracy: 0.9600\n",
      "Epoch 113/150\n",
      "4/4 - 0s - loss: 0.2618 - accuracy: 0.9600\n",
      "Epoch 114/150\n",
      "4/4 - 0s - loss: 0.2596 - accuracy: 0.9600\n",
      "Epoch 115/150\n",
      "4/4 - 0s - loss: 0.2578 - accuracy: 0.9500\n",
      "Epoch 116/150\n",
      "4/4 - 0s - loss: 0.2557 - accuracy: 0.9600\n",
      "Epoch 117/150\n",
      "4/4 - 0s - loss: 0.2551 - accuracy: 0.9600\n",
      "Epoch 118/150\n",
      "4/4 - 0s - loss: 0.2537 - accuracy: 0.9600\n",
      "Epoch 119/150\n",
      "4/4 - 0s - loss: 0.2513 - accuracy: 0.9600\n",
      "Epoch 120/150\n",
      "4/4 - 0s - loss: 0.2492 - accuracy: 0.9600\n",
      "Epoch 121/150\n",
      "4/4 - 0s - loss: 0.2484 - accuracy: 0.9600\n",
      "Epoch 122/150\n",
      "4/4 - 0s - loss: 0.2465 - accuracy: 0.9500\n",
      "Epoch 123/150\n",
      "4/4 - 0s - loss: 0.2451 - accuracy: 0.9500\n",
      "Epoch 124/150\n",
      "4/4 - 0s - loss: 0.2437 - accuracy: 0.9500\n",
      "Epoch 125/150\n",
      "4/4 - 0s - loss: 0.2425 - accuracy: 0.9500\n",
      "Epoch 126/150\n",
      "4/4 - 0s - loss: 0.2406 - accuracy: 0.9500\n",
      "Epoch 127/150\n",
      "4/4 - 0s - loss: 0.2383 - accuracy: 0.9500\n",
      "Epoch 128/150\n",
      "4/4 - 0s - loss: 0.2367 - accuracy: 0.9600\n",
      "Epoch 129/150\n",
      "4/4 - 0s - loss: 0.2348 - accuracy: 0.9600\n",
      "Epoch 130/150\n",
      "4/4 - 0s - loss: 0.2338 - accuracy: 0.9600\n",
      "Epoch 131/150\n",
      "4/4 - 0s - loss: 0.2326 - accuracy: 0.9600\n",
      "Epoch 132/150\n",
      "4/4 - 0s - loss: 0.2304 - accuracy: 0.9600\n",
      "Epoch 133/150\n",
      "4/4 - 0s - loss: 0.2286 - accuracy: 0.9600\n",
      "Epoch 134/150\n",
      "4/4 - 0s - loss: 0.2271 - accuracy: 0.9600\n",
      "Epoch 135/150\n",
      "4/4 - 0s - loss: 0.2260 - accuracy: 0.9600\n",
      "Epoch 136/150\n",
      "4/4 - 0s - loss: 0.2276 - accuracy: 0.9500\n",
      "Epoch 137/150\n",
      "4/4 - 0s - loss: 0.2281 - accuracy: 0.9500\n",
      "Epoch 138/150\n",
      "4/4 - 0s - loss: 0.2266 - accuracy: 0.9500\n",
      "Epoch 139/150\n",
      "4/4 - 0s - loss: 0.2246 - accuracy: 0.9500\n",
      "Epoch 140/150\n",
      "4/4 - 0s - loss: 0.2225 - accuracy: 0.9500\n",
      "Epoch 141/150\n",
      "4/4 - 0s - loss: 0.2184 - accuracy: 0.9500\n",
      "Epoch 142/150\n",
      "4/4 - 0s - loss: 0.2166 - accuracy: 0.9600\n",
      "Epoch 143/150\n",
      "4/4 - 0s - loss: 0.2151 - accuracy: 0.9600\n",
      "Epoch 144/150\n",
      "4/4 - 0s - loss: 0.2138 - accuracy: 0.9600\n",
      "Epoch 145/150\n",
      "4/4 - 0s - loss: 0.2125 - accuracy: 0.9600\n",
      "Epoch 146/150\n",
      "4/4 - 0s - loss: 0.2117 - accuracy: 0.9500\n"
     ]
    },
    {
     "name": "stdout",
     "output_type": "stream",
     "text": [
      "Epoch 147/150\n",
      "4/4 - 0s - loss: 0.2101 - accuracy: 0.9500\n",
      "Epoch 148/150\n",
      "4/4 - 0s - loss: 0.2094 - accuracy: 0.9700\n",
      "Epoch 149/150\n",
      "4/4 - 0s - loss: 0.2090 - accuracy: 0.9600\n",
      "Epoch 150/150\n",
      "4/4 - 0s - loss: 0.2083 - accuracy: 0.9600\n"
     ]
    },
    {
     "data": {
      "text/plain": [
       "<tensorflow.python.keras.callbacks.History at 0x118e25030b8>"
      ]
     },
     "execution_count": 40,
     "metadata": {},
     "output_type": "execute_result"
    }
   ],
   "source": [
    "model.fit(scaler_x_train,y_train,epochs=150,verbose=2)"
   ]
  },
  {
   "cell_type": "code",
   "execution_count": 41,
   "metadata": {},
   "outputs": [
    {
     "name": "stderr",
     "output_type": "stream",
     "text": [
      "c:\\users\\asus\\appdata\\local\\programs\\python\\python37\\lib\\site-packages\\tensorflow\\python\\keras\\engine\\sequential.py:450: UserWarning: `model.predict_classes()` is deprecated and will be removed after 2021-01-01. Please use instead:* `np.argmax(model.predict(x), axis=-1)`,   if your model does multi-class classification   (e.g. if it uses a `softmax` last-layer activation).* `(model.predict(x) > 0.5).astype(\"int32\")`,   if your model does binary classification   (e.g. if it uses a `sigmoid` last-layer activation).\n",
      "  warnings.warn('`model.predict_classes()` is deprecated and '\n"
     ]
    },
    {
     "data": {
      "text/plain": [
       "array([1, 0, 2, 1, 1, 0, 1, 2, 2, 1, 2, 0, 0, 0, 0, 1, 2, 1, 1, 2, 0, 2,\n",
       "       0, 2, 2, 2, 2, 2, 0, 0, 0, 0, 1, 0, 0, 2, 1, 0, 0, 0, 2, 1, 1, 0,\n",
       "       0, 1, 2, 2, 1, 2], dtype=int64)"
      ]
     },
     "execution_count": 41,
     "metadata": {},
     "output_type": "execute_result"
    }
   ],
   "source": [
    "model.predict_classes(scaler_x_test)"
   ]
  },
  {
   "cell_type": "code",
   "execution_count": 42,
   "metadata": {},
   "outputs": [
    {
     "name": "stderr",
     "output_type": "stream",
     "text": [
      "c:\\users\\asus\\appdata\\local\\programs\\python\\python37\\lib\\site-packages\\tensorflow\\python\\keras\\engine\\sequential.py:450: UserWarning: `model.predict_classes()` is deprecated and will be removed after 2021-01-01. Please use instead:* `np.argmax(model.predict(x), axis=-1)`,   if your model does multi-class classification   (e.g. if it uses a `softmax` last-layer activation).* `(model.predict(x) > 0.5).astype(\"int32\")`,   if your model does binary classification   (e.g. if it uses a `sigmoid` last-layer activation).\n",
      "  warnings.warn('`model.predict_classes()` is deprecated and '\n"
     ]
    }
   ],
   "source": [
    "predictions = model.predict_classes(scaler_x_test)"
   ]
  },
  {
   "cell_type": "code",
   "execution_count": 44,
   "metadata": {},
   "outputs": [],
   "source": [
    "# y_test"
   ]
  },
  {
   "cell_type": "code",
   "execution_count": 46,
   "metadata": {},
   "outputs": [
    {
     "data": {
      "text/plain": [
       "array([1, 0, 2, 1, 1, 0, 1, 2, 1, 1, 2, 0, 0, 0, 0, 1, 2, 1, 1, 2, 0, 2,\n",
       "       0, 2, 2, 2, 2, 2, 0, 0, 0, 0, 1, 0, 0, 2, 1, 0, 0, 0, 2, 1, 1, 0,\n",
       "       0, 1, 2, 2, 1, 2], dtype=int64)"
      ]
     },
     "execution_count": 46,
     "metadata": {},
     "output_type": "execute_result"
    }
   ],
   "source": [
    "y_test.argmax(axis = 1)"
   ]
  },
  {
   "cell_type": "code",
   "execution_count": 47,
   "metadata": {},
   "outputs": [],
   "source": [
    "from sklearn.metrics import classification_report,confusion_matrix,accuracy_score"
   ]
  },
  {
   "cell_type": "code",
   "execution_count": 48,
   "metadata": {},
   "outputs": [
    {
     "name": "stdout",
     "output_type": "stream",
     "text": [
      "[[19  0  0]\n",
      " [ 0 14  0]\n",
      " [ 0  1 16]]\n"
     ]
    }
   ],
   "source": [
    "print(confusion_matrix(predictions,y_test.argmax(axis=1)))"
   ]
  },
  {
   "cell_type": "code",
   "execution_count": 49,
   "metadata": {},
   "outputs": [
    {
     "name": "stdout",
     "output_type": "stream",
     "text": [
      "              precision    recall  f1-score   support\n",
      "\n",
      "           0       1.00      1.00      1.00        19\n",
      "           1       0.93      1.00      0.97        14\n",
      "           2       1.00      0.94      0.97        17\n",
      "\n",
      "    accuracy                           0.98        50\n",
      "   macro avg       0.98      0.98      0.98        50\n",
      "weighted avg       0.98      0.98      0.98        50\n",
      "\n"
     ]
    }
   ],
   "source": [
    "print(classification_report(predictions,y_test.argmax(axis=1)))"
   ]
  },
  {
   "cell_type": "code",
   "execution_count": 50,
   "metadata": {},
   "outputs": [
    {
     "name": "stdout",
     "output_type": "stream",
     "text": [
      "0.98\n"
     ]
    }
   ],
   "source": [
    "print(accuracy_score(predictions,y_test.argmax(axis=1)))"
   ]
  },
  {
   "cell_type": "code",
   "execution_count": 51,
   "metadata": {},
   "outputs": [],
   "source": [
    "model.save('myfirstmodel.h5')"
   ]
  },
  {
   "cell_type": "code",
   "execution_count": 52,
   "metadata": {},
   "outputs": [],
   "source": [
    "from keras.models import load_model"
   ]
  },
  {
   "cell_type": "code",
   "execution_count": 53,
   "metadata": {},
   "outputs": [],
   "source": [
    "model = load_model('myfirstmodel.h5')"
   ]
  },
  {
   "cell_type": "code",
   "execution_count": 54,
   "metadata": {},
   "outputs": [
    {
     "name": "stderr",
     "output_type": "stream",
     "text": [
      "c:\\users\\asus\\appdata\\local\\programs\\python\\python37\\lib\\site-packages\\tensorflow\\python\\keras\\engine\\sequential.py:450: UserWarning: `model.predict_classes()` is deprecated and will be removed after 2021-01-01. Please use instead:* `np.argmax(model.predict(x), axis=-1)`,   if your model does multi-class classification   (e.g. if it uses a `softmax` last-layer activation).* `(model.predict(x) > 0.5).astype(\"int32\")`,   if your model does binary classification   (e.g. if it uses a `sigmoid` last-layer activation).\n",
      "  warnings.warn('`model.predict_classes()` is deprecated and '\n"
     ]
    },
    {
     "data": {
      "text/plain": [
       "array([1, 0, 2, 1, 1, 0, 1, 2, 2, 1, 2, 0, 0, 0, 0, 1, 2, 1, 1, 2, 0, 2,\n",
       "       0, 2, 2, 2, 2, 2, 0, 0, 0, 0, 1, 0, 0, 2, 1, 0, 0, 0, 2, 1, 1, 0,\n",
       "       0, 1, 2, 2, 1, 2], dtype=int64)"
      ]
     },
     "execution_count": 54,
     "metadata": {},
     "output_type": "execute_result"
    }
   ],
   "source": [
    "model.predict_classes(scaler_x_test)"
   ]
  },
  {
   "cell_type": "code",
   "execution_count": null,
   "metadata": {},
   "outputs": [],
   "source": []
  }
 ],
 "metadata": {
  "kernelspec": {
   "display_name": "Python 3",
   "language": "python",
   "name": "python3"
  },
  "language_info": {
   "codemirror_mode": {
    "name": "ipython",
    "version": 3
   },
   "file_extension": ".py",
   "mimetype": "text/x-python",
   "name": "python",
   "nbconvert_exporter": "python",
   "pygments_lexer": "ipython3",
   "version": "3.7.1"
  }
 },
 "nbformat": 4,
 "nbformat_minor": 2
}
