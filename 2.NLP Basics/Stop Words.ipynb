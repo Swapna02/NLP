{
 "cells": [
  {
   "cell_type": "code",
   "execution_count": 11,
   "metadata": {},
   "outputs": [],
   "source": [
    "import spacy"
   ]
  },
  {
   "cell_type": "code",
   "execution_count": 12,
   "metadata": {},
   "outputs": [],
   "source": [
    "nlp = spacy.load('en_core_web_sm')"
   ]
  },
  {
   "cell_type": "code",
   "execution_count": 13,
   "metadata": {},
   "outputs": [
    {
     "name": "stdout",
     "output_type": "stream",
     "text": [
      "{'else', '’s', 'hundred', 'anywhere', 'he', 'she', 'him', '‘ve', 'out', 'under', 'unless', 'here', 'such', 'how', 'whatever', 'after', 'even', 'although', 'third', 'see', 'by', 'me', 'yours', 'hence', 'however', 'empty', 'at', 'take', 'most', 'has', 'two', 'whereas', 'it', 'n’t', 'n‘t', 'toward', 'myself', 'cannot', 'itself', 'amongst', 'was', 'might', 'whole', 'full', 'whence', 'still', 'when', \"'d\", 'ca', 'would', 'put', 'eleven', 'who', 'should', 'wherein', 'down', 'bottom', 'us', 'then', 'further', 'sometimes', 'does', 'because', 'everyone', 'everything', 'if', 'an', 'each', 'seemed', 'anyone', 'whom', 'already', 'are', 'every', 'you', 'sixty', 'yourself', 'am', 'well', 'their', 'part', 'twelve', 'somehow', 'few', 'amount', 'say', 'except', 'latterly', 'perhaps', 'thence', '’ll', 'yet', 'upon', 'only', '’m', 'since', 'will', 'former', '’re', 'no', 'please', 'over', 'elsewhere', 'ourselves', \"'s\", 'wherever', 'front', 'per', 'until', 'your', 'onto', 'none', 'almost', 'another', 'everywhere', 'all', '’d', 'them', 'show', 'always', 'whoever', 'noone', 'herein', 'around', 'ten', 'therefore', 'of', 'move', 'may', 'during', 'my', 'four', 'what', 'back', 'across', '‘d', 'namely', 'nine', 'seeming', '‘m', 'six', 'so', 'hers', 'thereby', 'doing', \"'ll\", 'a', \"'m\", 'rather', 'call', 'whereafter', 'really', 'hereby', 'nowhere', 'off', 'nothing', 'about', 'her', 'nevertheless', 'we', 'any', 'anyhow', \"'ve\", 'quite', 'forty', 'made', 'indeed', 'one', 'either', 'while', 'top', 'somewhere', 'below', 'others', 'three', 'hereafter', 'is', 'latter', 'thru', 'himself', 'were', 'neither', '’ve', 'get', 'being', 'where', 'herself', 'whereupon', 'can', 'that', 'eight', 'for', 'among', 'much', 'using', 'together', 'first', 'could', 'become', 'nobody', 'which', 'beforehand', 'less', 'just', 'behind', 'towards', 'up', 'sometime', 'becomes', 'besides', 'i', 'formerly', 'various', 'fifty', 'thus', 'other', 're', 'not', 'afterwards', 'therein', 'from', 'anyway', 'last', 'more', 'themselves', 'between', 'than', 'with', \"n't\", 'keep', 'though', 'mine', 'many', 'these', 'whether', 'regarding', 'alone', 'someone', 'never', 'again', \"'re\", 'twenty', 'this', 'above', 'fifteen', 'now', 'becoming', 'least', 'there', 'and', 'on', 'via', 'whenever', 'as', 'our', 'enough', 'due', 'against', 'do', 'had', 'beyond', 'throughout', 'within', 'anything', 'thereafter', 'before', 'seems', 'they', 'serious', 'must', 'beside', 'to', 'whither', 'into', '‘ll', 'too', 'whose', 'next', 'became', 'through', 'name', 'have', 'but', 'five', 'nor', 'the', 'otherwise', 'those', 'several', 'make', 'meanwhile', '‘s', 'been', 'side', 'or', 'hereupon', 'mostly', 'in', 'along', 'thereupon', 'without', 'both', 'own', 'why', 'ever', 'its', 'seem', 'often', 'same', 'go', 'something', '‘re', 'some', 'done', 'give', 'moreover', 'very', 'whereby', 'ours', 'did', 'also', 'once', 'be', 'his', 'yourselves', 'used'}\n"
     ]
    }
   ],
   "source": [
    "print(nlp.Defaults.stop_words)"
   ]
  },
  {
   "cell_type": "code",
   "execution_count": 14,
   "metadata": {},
   "outputs": [
    {
     "data": {
      "text/plain": [
       "326"
      ]
     },
     "execution_count": 14,
     "metadata": {},
     "output_type": "execute_result"
    }
   ],
   "source": [
    "len(nlp.Defaults.stop_words)"
   ]
  },
  {
   "cell_type": "code",
   "execution_count": 16,
   "metadata": {},
   "outputs": [
    {
     "data": {
      "text/plain": [
       "True"
      ]
     },
     "execution_count": 16,
     "metadata": {},
     "output_type": "execute_result"
    }
   ],
   "source": [
    "nlp.vocab['is'].is_stop"
   ]
  },
  {
   "cell_type": "code",
   "execution_count": 19,
   "metadata": {},
   "outputs": [],
   "source": [
    "nlp.Defaults.stop_words.add ('btw')"
   ]
  },
  {
   "cell_type": "code",
   "execution_count": 22,
   "metadata": {},
   "outputs": [],
   "source": [
    "nlp.vocab['btw'].is_stop = True"
   ]
  },
  {
   "cell_type": "code",
   "execution_count": 23,
   "metadata": {},
   "outputs": [
    {
     "data": {
      "text/plain": [
       "327"
      ]
     },
     "execution_count": 23,
     "metadata": {},
     "output_type": "execute_result"
    }
   ],
   "source": [
    "len(nlp.Defaults.stop_words)"
   ]
  },
  {
   "cell_type": "code",
   "execution_count": 24,
   "metadata": {},
   "outputs": [
    {
     "data": {
      "text/plain": [
       "True"
      ]
     },
     "execution_count": 24,
     "metadata": {},
     "output_type": "execute_result"
    }
   ],
   "source": [
    "nlp.vocab['btw'].is_stop"
   ]
  },
  {
   "cell_type": "code",
   "execution_count": 25,
   "metadata": {},
   "outputs": [],
   "source": [
    "nlp.Defaults.stop_words.remove('beyond')"
   ]
  },
  {
   "cell_type": "code",
   "execution_count": 26,
   "metadata": {},
   "outputs": [],
   "source": [
    "nlp.vocab['beyond'].is_stop = False"
   ]
  },
  {
   "cell_type": "code",
   "execution_count": 27,
   "metadata": {},
   "outputs": [
    {
     "data": {
      "text/plain": [
       "False"
      ]
     },
     "execution_count": 27,
     "metadata": {},
     "output_type": "execute_result"
    }
   ],
   "source": [
    "nlp.vocab['beyond'].is_stop"
   ]
  },
  {
   "cell_type": "code",
   "execution_count": null,
   "metadata": {},
   "outputs": [],
   "source": []
  }
 ],
 "metadata": {
  "kernelspec": {
   "display_name": "Python 3",
   "language": "python",
   "name": "python3"
  },
  "language_info": {
   "codemirror_mode": {
    "name": "ipython",
    "version": 3
   },
   "file_extension": ".py",
   "mimetype": "text/x-python",
   "name": "python",
   "nbconvert_exporter": "python",
   "pygments_lexer": "ipython3",
   "version": "3.7.1"
  }
 },
 "nbformat": 4,
 "nbformat_minor": 2
}
