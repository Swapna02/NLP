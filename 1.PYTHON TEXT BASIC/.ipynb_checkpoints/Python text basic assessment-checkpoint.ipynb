{
 "cells": [
  {
   "cell_type": "markdown",
   "metadata": {},
   "source": [
    "1."
   ]
  },
  {
   "cell_type": "code",
   "execution_count": 1,
   "metadata": {},
   "outputs": [],
   "source": [
    "text1 = \"NLP\"\n",
    "text2 = \"Natural Langguage Processing\""
   ]
  },
  {
   "cell_type": "code",
   "execution_count": 2,
   "metadata": {},
   "outputs": [
    {
     "name": "stdout",
     "output_type": "stream",
     "text": [
      "NLP stands for Natural Langguage Processing\n"
     ]
    }
   ],
   "source": [
    "print(f\"{text1} stands for {text2}\")"
   ]
  },
  {
   "cell_type": "markdown",
   "metadata": {},
   "source": [
    "2."
   ]
  },
  {
   "cell_type": "code",
   "execution_count": 3,
   "metadata": {},
   "outputs": [
    {
     "name": "stdout",
     "output_type": "stream",
     "text": [
      "Overwriting contacts.txt\n"
     ]
    }
   ],
   "source": [
    "%%writefile contacts.txt\n",
    "user_name, second_name, .txt, abc36@gmail.com"
   ]
  },
  {
   "cell_type": "markdown",
   "metadata": {},
   "source": [
    "3."
   ]
  },
  {
   "cell_type": "code",
   "execution_count": 4,
   "metadata": {},
   "outputs": [],
   "source": [
    "details = open('contacts.txt')"
   ]
  },
  {
   "cell_type": "code",
   "execution_count": 5,
   "metadata": {},
   "outputs": [],
   "source": [
    "fields = details.read()"
   ]
  },
  {
   "cell_type": "code",
   "execution_count": 6,
   "metadata": {},
   "outputs": [],
   "source": [
    "details.close()"
   ]
  },
  {
   "cell_type": "code",
   "execution_count": 7,
   "metadata": {},
   "outputs": [
    {
     "name": "stdout",
     "output_type": "stream",
     "text": [
      "user_name, second_name, .txt, abc36@gmail.com\n",
      "\n"
     ]
    }
   ],
   "source": [
    "print (fields)"
   ]
  },
  {
   "cell_type": "markdown",
   "metadata": {},
   "source": [
    "4."
   ]
  },
  {
   "cell_type": "code",
   "execution_count": 8,
   "metadata": {},
   "outputs": [],
   "source": [
    "import PyPDF2"
   ]
  },
  {
   "cell_type": "code",
   "execution_count": 9,
   "metadata": {},
   "outputs": [],
   "source": [
    "file = open('water.pdf','rb')"
   ]
  },
  {
   "cell_type": "code",
   "execution_count": 10,
   "metadata": {},
   "outputs": [],
   "source": [
    "pdf_reader = PyPDF2.PdfFileReader(file)"
   ]
  },
  {
   "cell_type": "code",
   "execution_count": 11,
   "metadata": {},
   "outputs": [],
   "source": [
    "pag2 = pdf_reader.getPage(2)"
   ]
  },
  {
   "cell_type": "code",
   "execution_count": 12,
   "metadata": {},
   "outputs": [],
   "source": [
    "pg_text = pag2.extractText()"
   ]
  },
  {
   "cell_type": "code",
   "execution_count": null,
   "metadata": {},
   "outputs": [],
   "source": []
  },
  {
   "cell_type": "code",
   "execution_count": 13,
   "metadata": {},
   "outputs": [],
   "source": [
    "file.close()"
   ]
  },
  {
   "cell_type": "code",
   "execution_count": null,
   "metadata": {},
   "outputs": [],
   "source": []
  },
  {
   "cell_type": "code",
   "execution_count": 14,
   "metadata": {},
   "outputs": [
    {
     "name": "stdout",
     "output_type": "stream",
     "text": [
      "Water\n",
      "2019\n",
      ",\n",
      "11\n",
      ",1387\n",
      "3of19\n",
      "fortimesequenceproblems)suchas:Speechrecognition[\n",
      "19\n",
      "],machinetranslation[\n",
      "20\n",
      ",\n",
      "21\n",
      "],language\n",
      "modeling[\n",
      "22\n",
      "],tourism[\n",
      "23\n",
      ",\n",
      "24\n",
      "],stockprediction[\n",
      "25\n",
      "],andrainfall-runo\n",
      "\n",
      "simulation[\n",
      "16\n",
      ",\n",
      "26\n",
      ",\n",
      "27\n",
      "].\n",
      "SeveralLSTMstudieslistedabovesuggestthatLSTM-basedmodelshavebeensuccessfullyusedin\n",
      "variousandcanbeapplicabletoriverforecasting.\n",
      "Inthisresearch,weconstructedseveralmodelsofLSTMandhaveappliedthesemodelsto\n",
      "forecastdischargeattheHoaBinhStationontheDaRiver,oneofthelargestriverbasinsinVietnam.\n",
      "DaRiverhasanabundant,throughhighmountainareasstretchingfromChinatoVietnam,\n",
      "andyieldshydroelectricpower.Theexistenceoflargehydropowerdamsandreservoirsin\n",
      "China(upstreamofDaRiver)causesdi\n",
      "\n",
      "cultiesinforecastingdownstreamwhich\n",
      "throughVietnam.LSTMmodelshavebeendevelopedforone-day,two-day,andthree-day\n",
      "forecastinginadvanceatHoaBinhStation.Rainfallandatmeteorologicaland\n",
      "hydrologicalstationsinthestudyareaareinputdataofthemodel.Inadditiontoevaluatingthe\n",
      "model'sabilityinpredictingaswellaspredictingpeaks,theofthedataset\n",
      "characteristicsonmodelperformanceisalsoofinterest.TwoscenariosoftheLSTMmodelwith\n",
      "di\n",
      "\n",
      "erentcombinationsofinputdatasetswereproposedinturnforthreeforecastingcases.\n",
      "2.Methodology\n",
      "2.1.StudyAreaandData\n",
      "TheDaRiver,locatedinthenorthwestareaofVietnam,isthelargesttributaryoftheRedRiver\n",
      "system,oneofthelargestriversystemsinVietnam.OriginatingfromYunnanProvinceinChina,\n",
      "theDaRiverbasinstretchesoutinanorthwest-southeastdirection.InVietnam,theriverthrough\n",
      "theLaiChau,DienBien,SonLa,andHoaBinhprovinces,beforejoiningtheRedRiverinPhuTho\n",
      "province.TheDaRiverbasincoversanareaof52,900km\n",
      "2\n",
      ",inwhichapproximately50%(26,800km\n",
      "2\n",
      ")\n",
      "ofthebasinareaisinVietnam.ItthroughthehighmountainareainVietnamandhasan\n",
      "abundant,whichyieldssubstantialhydroelectricpower.Inaddition,duetothetopographical\n",
      "characteristicsofthearea,thedistributionofrainfallonthebasinisuneveninspatialandtemporal.\n",
      "RainfallconcentratesmainlyfromMaytoSeptember,accountingfor85Œ88%ofthetotalannualrainfall.\n",
      "Informationonthemaximumdailyprecipitationandpeakdischargeinthisareaaresummarized\n",
      "inTable\n",
      "1\n",
      ".Currently,therearethreelargehydroelectricplantsontheDaRiver,namely:TheHoaBinh\n",
      "Dam(1994),theSonLaDam(2012),andtheLaiChauDam(2016)withthetotalcombinedpower\n",
      "capacityofabout5520MW.\n",
      "Table1.\n",
      "InformationonmaximumdailyprecipitationandpeakdischargeontheDaRiver.\n",
      "No.StationsItemsValueUnit\n",
      "Period\n",
      "(24years)\n",
      "Time\n",
      "1MuongTeMaximumDailyPrecipitation197.4mm1961Œ198414July1970\n",
      "2LaiChauMaximumDailyPrecipitation197.5mm1961Œ198413June1961\n",
      "3QuynhNhaiMaximumDailyPrecipitation169.9mm1961Œ198413June1980\n",
      "4SonLaMaximumDailyPrecipitation198mm1961Œ198429June1980\n",
      "5YenChauMaximumDailyPrecipitation172mm1961Œ198416July1965\n",
      "6MocChauMaximumDailyPrecipitation166.7mm1961Œ198413June1965\n",
      "7HoaBinhMaximumDailyPrecipitation176.2mm1961Œ19849July1973\n",
      "8TaGiaPeakFloodDischarge3320\n",
      "m\n",
      "3\n",
      "/\n",
      "s\n",
      "1961Œ198415July1970\n",
      "9NamMucPeakFloodDischarge1680\n",
      "m\n",
      "3\n",
      "/\n",
      "s\n",
      "1961Œ19848July1964\n",
      "10LaiChauPeakFloodDischarge\n",
      "10,200\n",
      "m\n",
      "3\n",
      "/\n",
      "s\n",
      "1961Œ198418August1971\n",
      "11TaBuPeakFloodDischarge\n",
      "15,300\n",
      "m\n",
      "3\n",
      "/\n",
      "s\n",
      "1961Œ19848July1964\n",
      "12\n",
      "HoaBinh\n",
      "1\n",
      "PeakFloodDischarge\n",
      "16,900\n",
      "m\n",
      "3\n",
      "/\n",
      "s\n",
      "1961Œ19849July1964\n",
      "1\n",
      "denotesthetargetstation.\n",
      "\n"
     ]
    }
   ],
   "source": [
    "print(pg_text)"
   ]
  },
  {
   "cell_type": "code",
   "execution_count": null,
   "metadata": {},
   "outputs": [],
   "source": []
  },
  {
   "cell_type": "markdown",
   "metadata": {},
   "source": [
    "5."
   ]
  },
  {
   "cell_type": "code",
   "execution_count": 15,
   "metadata": {},
   "outputs": [],
   "source": [
    "details = open('contacts.txt','a+')"
   ]
  },
  {
   "cell_type": "code",
   "execution_count": 16,
   "metadata": {},
   "outputs": [
    {
     "data": {
      "text/plain": [
       "3110"
      ]
     },
     "execution_count": 16,
     "metadata": {},
     "output_type": "execute_result"
    }
   ],
   "source": [
    "details.write(pg_text)"
   ]
  },
  {
   "cell_type": "code",
   "execution_count": 17,
   "metadata": {},
   "outputs": [
    {
     "data": {
      "text/plain": [
       "0"
      ]
     },
     "execution_count": 17,
     "metadata": {},
     "output_type": "execute_result"
    }
   ],
   "source": [
    "details.seek(0)"
   ]
  },
  {
   "cell_type": "code",
   "execution_count": 18,
   "metadata": {},
   "outputs": [
    {
     "name": "stdout",
     "output_type": "stream",
     "text": [
      "user_name, second_name, .txt, abc36@gmail.com\n",
      "Water\n",
      "2019\n",
      ",\n",
      "11\n",
      ",1387\n",
      "3of19\n",
      "fortimesequenceproblems)suchas:Speechrecognition[\n",
      "19\n",
      "],machinetranslation[\n",
      "20\n",
      ",\n",
      "21\n",
      "],language\n",
      "modeling[\n",
      "22\n",
      "],tourism[\n",
      "23\n",
      ",\n",
      "24\n",
      "],stockprediction[\n",
      "25\n",
      "],andrainfall-runo\n",
      "\n",
      "simulation[\n",
      "16\n",
      ",\n",
      "26\n",
      ",\n",
      "27\n",
      "].\n",
      "SeveralLSTMstudieslistedabovesuggestthatLSTM-basedmodelshavebeensuccessfullyusedin\n",
      "variousandcanbeapplicabletoriverforecasting.\n",
      "Inthisresearch,weconstructedseveralmodelsofLSTMandhaveappliedthesemodelsto\n",
      "forecastdischargeattheHoaBinhStationontheDaRiver,oneofthelargestriverbasinsinVietnam.\n",
      "DaRiverhasanabundant,throughhighmountainareasstretchingfromChinatoVietnam,\n",
      "andyieldshydroelectricpower.Theexistenceoflargehydropowerdamsandreservoirsin\n",
      "China(upstreamofDaRiver)causesdi\n",
      "\n",
      "cultiesinforecastingdownstreamwhich\n",
      "throughVietnam.LSTMmodelshavebeendevelopedforone-day,two-day,andthree-day\n",
      "forecastinginadvanceatHoaBinhStation.Rainfallandatmeteorologicaland\n",
      "hydrologicalstationsinthestudyareaareinputdataofthemodel.Inadditiontoevaluatingthe\n",
      "model'sabilityinpredictingaswellaspredictingpeaks,theofthedataset\n",
      "characteristicsonmodelperformanceisalsoofinterest.TwoscenariosoftheLSTMmodelwith\n",
      "di\n",
      "\n",
      "erentcombinationsofinputdatasetswereproposedinturnforthreeforecastingcases.\n",
      "2.Methodology\n",
      "2.1.StudyAreaandData\n",
      "TheDaRiver,locatedinthenorthwestareaofVietnam,isthelargesttributaryoftheRedRiver\n",
      "system,oneofthelargestriversystemsinVietnam.OriginatingfromYunnanProvinceinChina,\n",
      "theDaRiverbasinstretchesoutinanorthwest-southeastdirection.InVietnam,theriverthrough\n",
      "theLaiChau,DienBien,SonLa,andHoaBinhprovinces,beforejoiningtheRedRiverinPhuTho\n",
      "province.TheDaRiverbasincoversanareaof52,900km\n",
      "2\n",
      ",inwhichapproximately50%(26,800km\n",
      "2\n",
      ")\n",
      "ofthebasinareaisinVietnam.ItthroughthehighmountainareainVietnamandhasan\n",
      "abundant,whichyieldssubstantialhydroelectricpower.Inaddition,duetothetopographical\n",
      "characteristicsofthearea,thedistributionofrainfallonthebasinisuneveninspatialandtemporal.\n",
      "RainfallconcentratesmainlyfromMaytoSeptember,accountingfor85Œ88%ofthetotalannualrainfall.\n",
      "Informationonthemaximumdailyprecipitationandpeakdischargeinthisareaaresummarized\n",
      "inTable\n",
      "1\n",
      ".Currently,therearethreelargehydroelectricplantsontheDaRiver,namely:TheHoaBinh\n",
      "Dam(1994),theSonLaDam(2012),andtheLaiChauDam(2016)withthetotalcombinedpower\n",
      "capacityofabout5520MW.\n",
      "Table1.\n",
      "InformationonmaximumdailyprecipitationandpeakdischargeontheDaRiver.\n",
      "No.StationsItemsValueUnit\n",
      "Period\n",
      "(24years)\n",
      "Time\n",
      "1MuongTeMaximumDailyPrecipitation197.4mm1961Œ198414July1970\n",
      "2LaiChauMaximumDailyPrecipitation197.5mm1961Œ198413June1961\n",
      "3QuynhNhaiMaximumDailyPrecipitation169.9mm1961Œ198413June1980\n",
      "4SonLaMaximumDailyPrecipitation198mm1961Œ198429June1980\n",
      "5YenChauMaximumDailyPrecipitation172mm1961Œ198416July1965\n",
      "6MocChauMaximumDailyPrecipitation166.7mm1961Œ198413June1965\n",
      "7HoaBinhMaximumDailyPrecipitation176.2mm1961Œ19849July1973\n",
      "8TaGiaPeakFloodDischarge3320\n",
      "m\n",
      "3\n",
      "/\n",
      "s\n",
      "1961Œ198415July1970\n",
      "9NamMucPeakFloodDischarge1680\n",
      "m\n",
      "3\n",
      "/\n",
      "s\n",
      "1961Œ19848July1964\n",
      "10LaiChauPeakFloodDischarge\n",
      "10,200\n",
      "m\n",
      "3\n",
      "/\n",
      "s\n",
      "1961Œ198418August1971\n",
      "11TaBuPeakFloodDischarge\n",
      "15,300\n",
      "m\n",
      "3\n",
      "/\n",
      "s\n",
      "1961Œ19848July1964\n",
      "12\n",
      "HoaBinh\n",
      "1\n",
      "PeakFloodDischarge\n",
      "16,900\n",
      "m\n",
      "3\n",
      "/\n",
      "s\n",
      "1961Œ19849July1964\n",
      "1\n",
      "denotesthetargetstation.\n",
      "\n"
     ]
    }
   ],
   "source": [
    "print(details.read())"
   ]
  },
  {
   "cell_type": "code",
   "execution_count": 19,
   "metadata": {},
   "outputs": [],
   "source": [
    "details.close()"
   ]
  },
  {
   "cell_type": "code",
   "execution_count": 20,
   "metadata": {},
   "outputs": [
    {
     "name": "stdout",
     "output_type": "stream",
     "text": [
      "user_name, second_name, .txt, abc36@gmail.com\n",
      "Water\n",
      "2019\n",
      ",\n",
      "11\n",
      ",1387\n",
      "3of19\n",
      "fortimesequenceproblems)suchas:Speechrecognition[\n",
      "19\n",
      "],machinetranslation[\n",
      "20\n",
      ",\n",
      "21\n",
      "],language\n",
      "modeling[\n",
      "22\n",
      "],tourism[\n",
      "23\n",
      ",\n",
      "24\n",
      "],stockprediction[\n",
      "25\n",
      "],andrainfall-runo\n",
      "\n",
      "simulation[\n",
      "16\n",
      ",\n",
      "26\n",
      ",\n",
      "27\n",
      "].\n",
      "SeveralLSTMstudieslistedabovesuggestthatLSTM-basedmodelshavebeensuccessfullyusedin\n",
      "variousandcanbeapplicabletoriverforecasting.\n",
      "Inthisresearch,weconstructedseveralmodelsofLSTMandhaveappliedthesemodelsto\n",
      "forecastdischargeattheHoaBinhStationontheDaRiver,oneofthelargestriverbasinsinVietnam.\n",
      "DaRiverhasanabundant,throughhighmountainareasstretchingfromChinatoVietnam,\n",
      "andyieldshydroelectricpower.Theexistenceoflargehydropowerdamsandreservoirsin\n",
      "China(upstreamofDaRiver)causesdi\n",
      "\n",
      "cultiesinforecastingdownstreamwhich\n",
      "throughVietnam.LSTMmodelshavebeendevelopedforone-day,two-day,andthree-day\n",
      "forecastinginadvanceatHoaBinhStation.Rainfallandatmeteorologicaland\n",
      "hydrologicalstationsinthestudyareaareinputdataofthemodel.Inadditiontoevaluatingthe\n",
      "model'sabilityinpredictingaswellaspredictingpeaks,theofthedataset\n",
      "characteristicsonmodelperformanceisalsoofinterest.TwoscenariosoftheLSTMmodelwith\n",
      "di\n",
      "\n",
      "erentcombinationsofinputdatasetswereproposedinturnforthreeforecastingcases.\n",
      "2.Methodology\n",
      "2.1.StudyAreaandData\n",
      "TheDaRiver,locatedinthenorthwestareaofVietnam,isthelargesttributaryoftheRedRiver\n",
      "system,oneofthelargestriversystemsinVietnam.OriginatingfromYunnanProvinceinChina,\n",
      "theDaRiverbasinstretchesoutinanorthwest-southeastdirection.InVietnam,theriverthrough\n",
      "theLaiChau,DienBien,SonLa,andHoaBinhprovinces,beforejoiningtheRedRiverinPhuTho\n",
      "province.TheDaRiverbasincoversanareaof52,900km\n",
      "2\n",
      ",inwhichapproximately50%(26,800km\n",
      "2\n",
      ")\n",
      "ofthebasinareaisinVietnam.ItthroughthehighmountainareainVietnamandhasan\n",
      "abundant,whichyieldssubstantialhydroelectricpower.Inaddition,duetothetopographical\n",
      "characteristicsofthearea,thedistributionofrainfallonthebasinisuneveninspatialandtemporal.\n",
      "RainfallconcentratesmainlyfromMaytoSeptember,accountingfor85Œ88%ofthetotalannualrainfall.\n",
      "Informationonthemaximumdailyprecipitationandpeakdischargeinthisareaaresummarized\n",
      "inTable\n",
      "1\n",
      ".Currently,therearethreelargehydroelectricplantsontheDaRiver,namely:TheHoaBinh\n",
      "Dam(1994),theSonLaDam(2012),andtheLaiChauDam(2016)withthetotalcombinedpower\n",
      "capacityofabout5520MW.\n",
      "Table1.\n",
      "InformationonmaximumdailyprecipitationandpeakdischargeontheDaRiver.\n",
      "No.StationsItemsValueUnit\n",
      "Period\n",
      "(24years)\n",
      "Time\n",
      "1MuongTeMaximumDailyPrecipitation197.4mm1961Œ198414July1970\n",
      "2LaiChauMaximumDailyPrecipitation197.5mm1961Œ198413June1961\n",
      "3QuynhNhaiMaximumDailyPrecipitation169.9mm1961Œ198413June1980\n",
      "4SonLaMaximumDailyPrecipitation198mm1961Œ198429June1980\n",
      "5YenChauMaximumDailyPrecipitation172mm1961Œ198416July1965\n",
      "6MocChauMaximumDailyPrecipitation166.7mm1961Œ198413June1965\n",
      "7HoaBinhMaximumDailyPrecipitation176.2mm1961Œ19849July1973\n",
      "8TaGiaPeakFloodDischarge3320\n",
      "m\n",
      "3\n",
      "/\n",
      "s\n",
      "1961Œ198415July1970\n",
      "9NamMucPeakFloodDischarge1680\n",
      "m\n",
      "3\n",
      "/\n",
      "s\n",
      "1961Œ19848July1964\n",
      "10LaiChauPeakFloodDischarge\n",
      "10,200\n",
      "m\n",
      "3\n",
      "/\n",
      "s\n",
      "1961Œ198418August1971\n",
      "11TaBuPeakFloodDischarge\n",
      "15,300\n",
      "m\n",
      "3\n",
      "/\n",
      "s\n",
      "1961Œ19848July1964\n",
      "12\n",
      "HoaBinh\n",
      "1\n",
      "PeakFloodDischarge\n",
      "16,900\n",
      "m\n",
      "3\n",
      "/\n",
      "s\n",
      "1961Œ19849July1964\n",
      "1\n",
      "denotesthetargetstation.\n",
      "2019\n",
      ",\n",
      "11\n",
      ",1387\n",
      "3of19\n",
      "fortimesequenceproblems)suchas:Speechrecognition[\n",
      "19\n",
      "],machinetranslation[\n",
      "20\n",
      ",\n",
      "21\n",
      "],language\n",
      "modeling[\n",
      "22\n",
      "],tourism[\n",
      "23\n",
      ",\n",
      "24\n",
      "],stockprediction[\n",
      "25\n",
      "],andrainfall-runo\n",
      "\n",
      "simulation[\n",
      "16\n",
      ",\n",
      "26\n",
      ",\n",
      "27\n",
      "].\n",
      "SeveralLSTMstudieslistedabovesuggestthatLSTM-basedmodelshavebeensuccessfullyusedin\n",
      "variousandcanbeapplicabletoriverforecasting.\n",
      "Inthisresearch,weconstructedseveralmodelsofLSTMandhaveappliedthesemodelsto\n",
      "forecastdischargeattheHoaBinhStationontheDaRiver,oneofthelargestriverbasinsinVietnam.\n",
      "DaRiverhasanabundant,throughhighmountainareasstretchingfromChinatoVietnam,\n",
      "andyieldshydroelectricpower.Theexistenceoflargehydropowerdamsandreservoirsin\n",
      "China(upstreamofDaRiver)causesdi\n",
      "\n",
      "cultiesinforecastingdownstreamwhich\n",
      "throughVietnam.LSTMmodelshavebeendevelopedforone-day,two-day,andthree-day\n",
      "forecastinginadvanceatHoaBinhStation.Rainfallandatmeteorologicaland\n",
      "hydrologicalstationsinthestudyareaareinputdataofthemodel.Inadditiontoevaluatingthe\n",
      "model'sabilityinpredictingaswellaspredictingpeaks,theofthedataset\n",
      "characteristicsonmodelperformanceisalsoofinterest.TwoscenariosoftheLSTMmodelwith\n",
      "di\n",
      "\n",
      "erentcombinationsofinputdatasetswereproposedinturnforthreeforecastingcases.\n",
      "2.Methodology\n",
      "2.1.StudyAreaandData\n",
      "TheDaRiver,locatedinthenorthwestareaofVietnam,isthelargesttributaryoftheRedRiver\n",
      "system,oneofthelargestriversystemsinVietnam.OriginatingfromYunnanProvinceinChina,\n",
      "theDaRiverbasinstretchesoutinanorthwest-southeastdirection.InVietnam,theriverthrough\n",
      "theLaiChau,DienBien,SonLa,andHoaBinhprovinces,beforejoiningtheRedRiverinPhuTho\n",
      "province.TheDaRiverbasincoversanareaof52,900km\n",
      "2\n",
      ",inwhichapproximately50%(26,800km\n",
      "2\n",
      ")\n",
      "ofthebasinareaisinVietnam.ItthroughthehighmountainareainVietnamandhasan\n",
      "abundant,whichyieldssubstantialhydroelectricpower.Inaddition,duetothetopographical\n",
      "characteristicsofthearea,thedistributionofrainfallonthebasinisuneveninspatialandtemporal.\n",
      "RainfallconcentratesmainlyfromMaytoSeptember,accountingfor85Œ88%ofthetotalannualrainfall.\n",
      "Informationonthemaximumdailyprecipitationandpeakdischargeinthisareaaresummarized\n",
      "inTable\n",
      "1\n",
      ".Currently,therearethreelargehydroelectricplantsontheDaRiver,namely:TheHoaBinh\n",
      "Dam(1994),theSonLaDam(2012),andtheLaiChauDam(2016)withthetotalcombinedpower\n",
      "capacityofabout5520MW.\n",
      "Table1.\n",
      "InformationonmaximumdailyprecipitationandpeakdischargeontheDaRiver.\n",
      "No.StationsItemsValueUnit\n",
      "Period\n",
      "(24years)\n",
      "Time\n",
      "1MuongTeMaximumDailyPrecipitation197.4mm1961Œ198414July1970\n",
      "2LaiChauMaximumDailyPrecipitation197.5mm1961Œ198413June1961\n",
      "3QuynhNhaiMaximumDailyPrecipitation169.9mm1961Œ198413June1980\n",
      "4SonLaMaximumDailyPrecipitation198mm1961Œ198429June1980\n",
      "5YenChauMaximumDailyPrecipitation172mm1961Œ198416July1965\n",
      "6MocChauMaximumDailyPrecipitation166.7mm1961Œ198413June1965\n",
      "7HoaBinhMaximumDailyPrecipitation176.2mm1961Œ19849July1973\n",
      "8TaGiaPeakFloodDischarge3320\n",
      "m\n",
      "3\n",
      "/\n",
      "s\n",
      "1961Œ198415July1970\n",
      "9NamMucPeakFloodDischarge1680\n",
      "m\n",
      "3\n",
      "/\n",
      "s\n",
      "1961Œ19848July1964\n",
      "10LaiChauPeakFloodDischarge\n",
      "10,200\n",
      "m\n",
      "3\n",
      "/\n",
      "s\n",
      "1961Œ198418August1971\n",
      "11TaBuPeakFloodDischarge\n",
      "15,300\n",
      "m\n",
      "3\n",
      "/\n",
      "s\n",
      "1961Œ19848July1964\n",
      "12\n",
      "HoaBinh\n",
      "1\n",
      "PeakFloodDischarge\n",
      "16,900\n",
      "m\n",
      "3\n",
      "/\n",
      "s\n",
      "1961Œ19849July1964\n",
      "1\n",
      "denotesthetargetstation.\n",
      "\n"
     ]
    }
   ],
   "source": [
    "with open('contacts.txt','a+') as f:\n",
    "    f.write(pg_text[6:])\n",
    "    f.seek(0)\n",
    "    print(f.read())"
   ]
  },
  {
   "cell_type": "code",
   "execution_count": 21,
   "metadata": {},
   "outputs": [],
   "source": [
    "details.close()"
   ]
  },
  {
   "cell_type": "markdown",
   "metadata": {},
   "source": [
    "6."
   ]
  },
  {
   "cell_type": "code",
   "execution_count": 22,
   "metadata": {},
   "outputs": [],
   "source": [
    "import re\n",
    "email = \"my emails are abc36@gmail.com and xyz134@gmail.com\""
   ]
  },
  {
   "cell_type": "code",
   "execution_count": 23,
   "metadata": {},
   "outputs": [],
   "source": [
    "pattern = r'[\\w]+@[\\w]+\\W+[\\w]+'"
   ]
  },
  {
   "cell_type": "code",
   "execution_count": 24,
   "metadata": {},
   "outputs": [],
   "source": [
    "myemail = re.findall(pattern,email)"
   ]
  },
  {
   "cell_type": "code",
   "execution_count": 25,
   "metadata": {},
   "outputs": [
    {
     "data": {
      "text/plain": [
       "['abc36@gmail.com', 'xyz134@gmail.com']"
      ]
     },
     "execution_count": 25,
     "metadata": {},
     "output_type": "execute_result"
    }
   ],
   "source": [
    "myemail"
   ]
  },
  {
   "cell_type": "markdown",
   "metadata": {},
   "source": [
    "GREAT JOB !"
   ]
  },
  {
   "cell_type": "code",
   "execution_count": null,
   "metadata": {},
   "outputs": [],
   "source": []
  },
  {
   "cell_type": "code",
   "execution_count": null,
   "metadata": {},
   "outputs": [],
   "source": []
  }
 ],
 "metadata": {
  "kernelspec": {
   "display_name": "Python 3",
   "language": "python",
   "name": "python3"
  },
  "language_info": {
   "codemirror_mode": {
    "name": "ipython",
    "version": 3
   },
   "file_extension": ".py",
   "mimetype": "text/x-python",
   "name": "python",
   "nbconvert_exporter": "python",
   "pygments_lexer": "ipython3",
   "version": "3.7.1"
  }
 },
 "nbformat": 4,
 "nbformat_minor": 2
}
